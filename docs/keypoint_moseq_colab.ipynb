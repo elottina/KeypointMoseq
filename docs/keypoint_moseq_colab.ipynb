{
  "cells": [
    {
      "cell_type": "markdown",
      "metadata": {
        "id": "view-in-github",
        "colab_type": "text"
      },
      "source": [
        "<a href=\"https://colab.research.google.com/github/elottina/KeypointMoseq/blob/main/docs/keypoint_moseq_colab.ipynb\" target=\"_parent\"><img src=\"https://colab.research.google.com/assets/colab-badge.svg\" alt=\"Open In Colab\"/></a>"
      ]
    },
    {
      "cell_type": "markdown",
      "id": "preliminary-agency",
      "metadata": {
        "id": "preliminary-agency"
      },
      "source": [
        "This notebook shows how to setup a new project, train a keypoint-MoSeq model and visualize the resulting syllables.\n",
        "\n",
        "**Total run time: ~90 min.**\n",
        "\n",
        "# Colab setup\n",
        "\n",
        "- Make a copy of this notebook if you plan to make changes and want them saved.\n",
        "- Go to \"Runtime\">\"change runtime type\" and select \"Python 3\" and \"GPU\""
      ]
    },
    {
      "cell_type": "markdown",
      "id": "aaab50c4",
      "metadata": {
        "id": "aaab50c4"
      },
      "source": [
        "### Install keypoint MoSeq"
      ]
    },
    {
      "cell_type": "code",
      "execution_count": 1,
      "id": "84990f8c",
      "metadata": {
        "id": "84990f8c",
        "outputId": "0df1071b-a37d-419a-b564-649cbd0f6d02",
        "colab": {
          "base_uri": "https://localhost:8080/"
        }
      },
      "outputs": [
        {
          "output_type": "stream",
          "name": "stdout",
          "text": [
            "Requirement already satisfied: keypoint-moseq in /usr/local/lib/python3.11/dist-packages (0.5.0)\n",
            "Requirement already satisfied: seaborn==0.13.0 in /usr/local/lib/python3.11/dist-packages (from keypoint-moseq) (0.13.0)\n",
            "Requirement already satisfied: cytoolz in /usr/local/lib/python3.11/dist-packages (from keypoint-moseq) (1.0.1)\n",
            "Requirement already satisfied: matplotlib==3.8.4 in /usr/local/lib/python3.11/dist-packages (from keypoint-moseq) (3.8.4)\n",
            "Requirement already satisfied: tqdm in /usr/local/lib/python3.11/dist-packages (from keypoint-moseq) (4.67.1)\n",
            "Requirement already satisfied: ipykernel in /usr/local/lib/python3.11/dist-packages (from keypoint-moseq) (5.5.6)\n",
            "Requirement already satisfied: imageio[ffmpeg] in /usr/local/lib/python3.11/dist-packages (from keypoint-moseq) (2.37.0)\n",
            "Requirement already satisfied: statsmodels in /usr/local/lib/python3.11/dist-packages (from keypoint-moseq) (0.14.4)\n",
            "Requirement already satisfied: pyyaml in /usr/local/lib/python3.11/dist-packages (from keypoint-moseq) (6.0.2)\n",
            "Requirement already satisfied: vidio in /usr/local/lib/python3.11/dist-packages (from keypoint-moseq) (0.0.4)\n",
            "Requirement already satisfied: holoviews[recommended] in /usr/local/lib/python3.11/dist-packages (from keypoint-moseq) (1.15.4)\n",
            "Requirement already satisfied: bokeh in /usr/local/lib/python3.11/dist-packages (from keypoint-moseq) (2.4.3)\n",
            "Requirement already satisfied: pandas in /usr/local/lib/python3.11/dist-packages (from keypoint-moseq) (2.2.2)\n",
            "Requirement already satisfied: tables in /usr/local/lib/python3.11/dist-packages (from keypoint-moseq) (3.10.2)\n",
            "Requirement already satisfied: panel==0.14.4 in /usr/local/lib/python3.11/dist-packages (from keypoint-moseq) (0.14.4)\n",
            "Requirement already satisfied: networkx in /usr/local/lib/python3.11/dist-packages (from keypoint-moseq) (3.4.2)\n",
            "Requirement already satisfied: sleap-io in /usr/local/lib/python3.11/dist-packages (from keypoint-moseq) (0.2.0)\n",
            "Requirement already satisfied: pynwb in /usr/local/lib/python3.11/dist-packages (from keypoint-moseq) (2.8.3)\n",
            "Requirement already satisfied: ndx-pose in /usr/local/lib/python3.11/dist-packages (from keypoint-moseq) (0.1.1)\n",
            "Requirement already satisfied: plotly in /usr/local/lib/python3.11/dist-packages (from keypoint-moseq) (5.24.1)\n",
            "Requirement already satisfied: ipython-genutils in /usr/local/lib/python3.11/dist-packages (from keypoint-moseq) (0.2.0)\n",
            "Requirement already satisfied: tabulate in /usr/local/lib/python3.11/dist-packages (from keypoint-moseq) (0.9.0)\n",
            "Requirement already satisfied: commentjson in /usr/local/lib/python3.11/dist-packages (from keypoint-moseq) (0.9.0)\n",
            "Requirement already satisfied: jax-moseq>=0.2.2 in /usr/local/lib/python3.11/dist-packages (from keypoint-moseq) (0.3.0)\n",
            "Requirement already satisfied: numpy<=1.26.4 in /usr/local/lib/python3.11/dist-packages (from keypoint-moseq) (1.26.4)\n",
            "Requirement already satisfied: Jinja2>=2.9 in /usr/local/lib/python3.11/dist-packages (from bokeh->keypoint-moseq) (3.1.5)\n",
            "Requirement already satisfied: packaging>=16.8 in /usr/local/lib/python3.11/dist-packages (from bokeh->keypoint-moseq) (24.2)\n",
            "Requirement already satisfied: pillow>=7.1.0 in /usr/local/lib/python3.11/dist-packages (from bokeh->keypoint-moseq) (11.1.0)\n",
            "Requirement already satisfied: tornado>=5.1 in /usr/local/lib/python3.11/dist-packages (from bokeh->keypoint-moseq) (6.4.2)\n",
            "Requirement already satisfied: typing-extensions>=3.10.0 in /usr/local/lib/python3.11/dist-packages (from bokeh->keypoint-moseq) (4.12.2)\n",
            "Requirement already satisfied: param<2.0,>=1.9.3 in /usr/local/lib/python3.11/dist-packages (from holoviews[recommended]->keypoint-moseq) (1.13.0)\n",
            "Requirement already satisfied: pyviz-comms>=0.7.4 in /usr/local/lib/python3.11/dist-packages (from holoviews[recommended]->keypoint-moseq) (3.0.4)\n",
            "Requirement already satisfied: colorcet in /usr/local/lib/python3.11/dist-packages (from holoviews[recommended]->keypoint-moseq) (3.1.0)\n",
            "Requirement already satisfied: contourpy>=1.0.1 in /usr/local/lib/python3.11/dist-packages (from matplotlib==3.8.4->keypoint-moseq) (1.3.1)\n",
            "Requirement already satisfied: cycler>=0.10 in /usr/local/lib/python3.11/dist-packages (from matplotlib==3.8.4->keypoint-moseq) (0.12.1)\n",
            "Requirement already satisfied: fonttools>=4.22.0 in /usr/local/lib/python3.11/dist-packages (from matplotlib==3.8.4->keypoint-moseq) (4.56.0)\n",
            "Requirement already satisfied: kiwisolver>=1.3.1 in /usr/local/lib/python3.11/dist-packages (from matplotlib==3.8.4->keypoint-moseq) (1.4.8)\n",
            "Requirement already satisfied: pyparsing>=2.3.1 in /usr/local/lib/python3.11/dist-packages (from matplotlib==3.8.4->keypoint-moseq) (3.2.1)\n",
            "Requirement already satisfied: python-dateutil>=2.7 in /usr/local/lib/python3.11/dist-packages (from matplotlib==3.8.4->keypoint-moseq) (2.8.2)\n",
            "Requirement already satisfied: markdown in /usr/local/lib/python3.11/dist-packages (from panel==0.14.4->keypoint-moseq) (3.7)\n",
            "Requirement already satisfied: requests in /usr/local/lib/python3.11/dist-packages (from panel==0.14.4->keypoint-moseq) (2.32.3)\n",
            "Requirement already satisfied: pyct>=0.4.4 in /usr/local/lib/python3.11/dist-packages (from panel==0.14.4->keypoint-moseq) (0.5.0)\n",
            "Requirement already satisfied: bleach in /usr/local/lib/python3.11/dist-packages (from panel==0.14.4->keypoint-moseq) (6.2.0)\n",
            "Requirement already satisfied: setuptools>=42 in /usr/local/lib/python3.11/dist-packages (from panel==0.14.4->keypoint-moseq) (75.1.0)\n",
            "Requirement already satisfied: numba>=0.56.4 in /usr/local/lib/python3.11/dist-packages (from jax-moseq>=0.2.2->keypoint-moseq) (0.61.0)\n",
            "Requirement already satisfied: dynamax>=0.1.2 in /usr/local/lib/python3.11/dist-packages (from jax-moseq>=0.2.2->keypoint-moseq) (0.1.8)\n",
            "Requirement already satisfied: optree in /usr/local/lib/python3.11/dist-packages (from jax-moseq>=0.2.2->keypoint-moseq) (0.14.0)\n",
            "Requirement already satisfied: pytz>=2020.1 in /usr/local/lib/python3.11/dist-packages (from pandas->keypoint-moseq) (2025.1)\n",
            "Requirement already satisfied: tzdata>=2022.7 in /usr/local/lib/python3.11/dist-packages (from pandas->keypoint-moseq) (2025.1)\n",
            "Requirement already satisfied: lark-parser<0.8.0,>=0.7.1 in /usr/local/lib/python3.11/dist-packages (from commentjson->keypoint-moseq) (0.7.8)\n",
            "Requirement already satisfied: toolz>=0.8.0 in /usr/local/lib/python3.11/dist-packages (from cytoolz->keypoint-moseq) (0.12.1)\n",
            "Requirement already satisfied: ipython>=5.4.0 in /usr/local/lib/python3.11/dist-packages (from holoviews[recommended]->keypoint-moseq) (7.34.0)\n",
            "Requirement already satisfied: notebook in /usr/local/lib/python3.11/dist-packages (from holoviews[recommended]->keypoint-moseq) (6.5.5)\n",
            "Requirement already satisfied: imageio-ffmpeg in /usr/local/lib/python3.11/dist-packages (from imageio[ffmpeg]->keypoint-moseq) (0.6.0)\n",
            "Requirement already satisfied: psutil in /usr/local/lib/python3.11/dist-packages (from imageio[ffmpeg]->keypoint-moseq) (5.9.5)\n",
            "Requirement already satisfied: traitlets>=4.1.0 in /usr/local/lib/python3.11/dist-packages (from ipykernel->keypoint-moseq) (5.7.1)\n",
            "Requirement already satisfied: jupyter-client in /usr/local/lib/python3.11/dist-packages (from ipykernel->keypoint-moseq) (6.1.12)\n",
            "Requirement already satisfied: hdmf<4,>=2.5.6 in /usr/local/lib/python3.11/dist-packages (from ndx-pose->keypoint-moseq) (3.14.6)\n",
            "Requirement already satisfied: h5py>=2.10 in /usr/local/lib/python3.11/dist-packages (from pynwb->keypoint-moseq) (3.12.1)\n",
            "Requirement already satisfied: tenacity>=6.2.0 in /usr/local/lib/python3.11/dist-packages (from plotly->keypoint-moseq) (9.0.0)\n",
            "Requirement already satisfied: attrs in /usr/local/lib/python3.11/dist-packages (from sleap-io->keypoint-moseq) (25.1.0)\n",
            "Requirement already satisfied: simplejson in /usr/local/lib/python3.11/dist-packages (from sleap-io->keypoint-moseq) (3.20.1)\n",
            "Requirement already satisfied: scipy!=1.9.2,>=1.8 in /usr/local/lib/python3.11/dist-packages (from statsmodels->keypoint-moseq) (1.13.1)\n",
            "Requirement already satisfied: patsy>=0.5.6 in /usr/local/lib/python3.11/dist-packages (from statsmodels->keypoint-moseq) (1.0.1)\n",
            "Requirement already satisfied: numexpr>=2.6.2 in /usr/local/lib/python3.11/dist-packages (from tables->keypoint-moseq) (2.10.2)\n",
            "Requirement already satisfied: py-cpuinfo in /usr/local/lib/python3.11/dist-packages (from tables->keypoint-moseq) (9.0.0)\n",
            "Requirement already satisfied: blosc2>=2.3.0 in /usr/local/lib/python3.11/dist-packages (from tables->keypoint-moseq) (3.0.0)\n",
            "Requirement already satisfied: opencv-python-headless in /usr/local/lib/python3.11/dist-packages (from vidio->keypoint-moseq) (4.11.0.86)\n",
            "Requirement already satisfied: ndindex in /usr/local/lib/python3.11/dist-packages (from blosc2>=2.3.0->tables->keypoint-moseq) (1.9.2)\n",
            "Requirement already satisfied: msgpack in /usr/local/lib/python3.11/dist-packages (from blosc2>=2.3.0->tables->keypoint-moseq) (1.1.0)\n",
            "Requirement already satisfied: httpx in /usr/local/lib/python3.11/dist-packages (from blosc2>=2.3.0->tables->keypoint-moseq) (0.28.1)\n",
            "Requirement already satisfied: jax>=0.3.15 in /usr/local/lib/python3.11/dist-packages (from dynamax>=0.1.2->jax-moseq>=0.2.2->keypoint-moseq) (0.4.33)\n",
            "Requirement already satisfied: jaxlib in /usr/local/lib/python3.11/dist-packages (from dynamax>=0.1.2->jax-moseq>=0.2.2->keypoint-moseq) (0.4.33)\n",
            "Requirement already satisfied: fastprogress in /usr/local/lib/python3.11/dist-packages (from dynamax>=0.1.2->jax-moseq>=0.2.2->keypoint-moseq) (1.0.3)\n",
            "Requirement already satisfied: optax in /usr/local/lib/python3.11/dist-packages (from dynamax>=0.1.2->jax-moseq>=0.2.2->keypoint-moseq) (0.2.4)\n",
            "Requirement already satisfied: tensorflow_probability in /usr/local/lib/python3.11/dist-packages (from dynamax>=0.1.2->jax-moseq>=0.2.2->keypoint-moseq) (0.25.0)\n",
            "Requirement already satisfied: scikit-learn in /usr/local/lib/python3.11/dist-packages (from dynamax>=0.1.2->jax-moseq>=0.2.2->keypoint-moseq) (1.6.1)\n",
            "Requirement already satisfied: jaxtyping in /usr/local/lib/python3.11/dist-packages (from dynamax>=0.1.2->jax-moseq>=0.2.2->keypoint-moseq) (0.2.38)\n",
            "Requirement already satisfied: jsonschema>=2.6.0 in /usr/local/lib/python3.11/dist-packages (from hdmf<4,>=2.5.6->ndx-pose->keypoint-moseq) (4.23.0)\n",
            "Requirement already satisfied: ruamel-yaml>=0.16 in /usr/local/lib/python3.11/dist-packages (from hdmf<4,>=2.5.6->ndx-pose->keypoint-moseq) (0.18.10)\n",
            "Requirement already satisfied: jedi>=0.16 in /usr/local/lib/python3.11/dist-packages (from ipython>=5.4.0->holoviews[recommended]->keypoint-moseq) (0.19.2)\n",
            "Requirement already satisfied: decorator in /usr/local/lib/python3.11/dist-packages (from ipython>=5.4.0->holoviews[recommended]->keypoint-moseq) (4.4.2)\n",
            "Requirement already satisfied: pickleshare in /usr/local/lib/python3.11/dist-packages (from ipython>=5.4.0->holoviews[recommended]->keypoint-moseq) (0.7.5)\n",
            "Requirement already satisfied: prompt-toolkit!=3.0.0,!=3.0.1,<3.1.0,>=2.0.0 in /usr/local/lib/python3.11/dist-packages (from ipython>=5.4.0->holoviews[recommended]->keypoint-moseq) (3.0.50)\n",
            "Requirement already satisfied: pygments in /usr/local/lib/python3.11/dist-packages (from ipython>=5.4.0->holoviews[recommended]->keypoint-moseq) (2.18.0)\n",
            "Requirement already satisfied: backcall in /usr/local/lib/python3.11/dist-packages (from ipython>=5.4.0->holoviews[recommended]->keypoint-moseq) (0.2.0)\n",
            "Requirement already satisfied: matplotlib-inline in /usr/local/lib/python3.11/dist-packages (from ipython>=5.4.0->holoviews[recommended]->keypoint-moseq) (0.1.7)\n",
            "Requirement already satisfied: pexpect>4.3 in /usr/local/lib/python3.11/dist-packages (from ipython>=5.4.0->holoviews[recommended]->keypoint-moseq) (4.9.0)\n",
            "Requirement already satisfied: MarkupSafe>=2.0 in /usr/local/lib/python3.11/dist-packages (from Jinja2>=2.9->bokeh->keypoint-moseq) (3.0.2)\n",
            "Requirement already satisfied: llvmlite<0.45,>=0.44.0dev0 in /usr/local/lib/python3.11/dist-packages (from numba>=0.56.4->jax-moseq>=0.2.2->keypoint-moseq) (0.44.0)\n",
            "Requirement already satisfied: six>=1.5 in /usr/local/lib/python3.11/dist-packages (from python-dateutil>=2.7->matplotlib==3.8.4->keypoint-moseq) (1.17.0)\n",
            "Requirement already satisfied: webencodings in /usr/local/lib/python3.11/dist-packages (from bleach->panel==0.14.4->keypoint-moseq) (0.5.1)\n",
            "Requirement already satisfied: jupyter-core>=4.6.0 in /usr/local/lib/python3.11/dist-packages (from jupyter-client->ipykernel->keypoint-moseq) (5.7.2)\n",
            "Requirement already satisfied: pyzmq>=13 in /usr/local/lib/python3.11/dist-packages (from jupyter-client->ipykernel->keypoint-moseq) (24.0.1)\n",
            "Requirement already satisfied: argon2-cffi in /usr/local/lib/python3.11/dist-packages (from notebook->holoviews[recommended]->keypoint-moseq) (23.1.0)\n",
            "Requirement already satisfied: nbformat in /usr/local/lib/python3.11/dist-packages (from notebook->holoviews[recommended]->keypoint-moseq) (5.10.4)\n",
            "Requirement already satisfied: nbconvert>=5 in /usr/local/lib/python3.11/dist-packages (from notebook->holoviews[recommended]->keypoint-moseq) (7.16.6)\n",
            "Requirement already satisfied: nest-asyncio>=1.5 in /usr/local/lib/python3.11/dist-packages (from notebook->holoviews[recommended]->keypoint-moseq) (1.6.0)\n",
            "Requirement already satisfied: Send2Trash>=1.8.0 in /usr/local/lib/python3.11/dist-packages (from notebook->holoviews[recommended]->keypoint-moseq) (1.8.3)\n",
            "Requirement already satisfied: terminado>=0.8.3 in /usr/local/lib/python3.11/dist-packages (from notebook->holoviews[recommended]->keypoint-moseq) (0.18.1)\n",
            "Requirement already satisfied: prometheus-client in /usr/local/lib/python3.11/dist-packages (from notebook->holoviews[recommended]->keypoint-moseq) (0.21.1)\n",
            "Requirement already satisfied: nbclassic>=0.4.7 in /usr/local/lib/python3.11/dist-packages (from notebook->holoviews[recommended]->keypoint-moseq) (1.2.0)\n",
            "Requirement already satisfied: charset-normalizer<4,>=2 in /usr/local/lib/python3.11/dist-packages (from requests->panel==0.14.4->keypoint-moseq) (3.4.1)\n",
            "Requirement already satisfied: idna<4,>=2.5 in /usr/local/lib/python3.11/dist-packages (from requests->panel==0.14.4->keypoint-moseq) (3.10)\n",
            "Requirement already satisfied: urllib3<3,>=1.21.1 in /usr/local/lib/python3.11/dist-packages (from requests->panel==0.14.4->keypoint-moseq) (2.3.0)\n",
            "Requirement already satisfied: certifi>=2017.4.17 in /usr/local/lib/python3.11/dist-packages (from requests->panel==0.14.4->keypoint-moseq) (2025.1.31)\n",
            "Requirement already satisfied: ml-dtypes>=0.2.0 in /usr/local/lib/python3.11/dist-packages (from jax>=0.3.15->dynamax>=0.1.2->jax-moseq>=0.2.2->keypoint-moseq) (0.4.1)\n",
            "Requirement already satisfied: opt-einsum in /usr/local/lib/python3.11/dist-packages (from jax>=0.3.15->dynamax>=0.1.2->jax-moseq>=0.2.2->keypoint-moseq) (3.4.0)\n",
            "Requirement already satisfied: parso<0.9.0,>=0.8.4 in /usr/local/lib/python3.11/dist-packages (from jedi>=0.16->ipython>=5.4.0->holoviews[recommended]->keypoint-moseq) (0.8.4)\n",
            "Requirement already satisfied: jsonschema-specifications>=2023.03.6 in /usr/local/lib/python3.11/dist-packages (from jsonschema>=2.6.0->hdmf<4,>=2.5.6->ndx-pose->keypoint-moseq) (2024.10.1)\n",
            "Requirement already satisfied: referencing>=0.28.4 in /usr/local/lib/python3.11/dist-packages (from jsonschema>=2.6.0->hdmf<4,>=2.5.6->ndx-pose->keypoint-moseq) (0.36.2)\n",
            "Requirement already satisfied: rpds-py>=0.7.1 in /usr/local/lib/python3.11/dist-packages (from jsonschema>=2.6.0->hdmf<4,>=2.5.6->ndx-pose->keypoint-moseq) (0.22.3)\n",
            "Requirement already satisfied: platformdirs>=2.5 in /usr/local/lib/python3.11/dist-packages (from jupyter-core>=4.6.0->jupyter-client->ipykernel->keypoint-moseq) (4.3.6)\n",
            "Requirement already satisfied: notebook-shim>=0.2.3 in /usr/local/lib/python3.11/dist-packages (from nbclassic>=0.4.7->notebook->holoviews[recommended]->keypoint-moseq) (0.2.4)\n",
            "Requirement already satisfied: beautifulsoup4 in /usr/local/lib/python3.11/dist-packages (from nbconvert>=5->notebook->holoviews[recommended]->keypoint-moseq) (4.13.3)\n",
            "Requirement already satisfied: defusedxml in /usr/local/lib/python3.11/dist-packages (from nbconvert>=5->notebook->holoviews[recommended]->keypoint-moseq) (0.7.1)\n",
            "Requirement already satisfied: jupyterlab-pygments in /usr/local/lib/python3.11/dist-packages (from nbconvert>=5->notebook->holoviews[recommended]->keypoint-moseq) (0.3.0)\n",
            "Requirement already satisfied: mistune<4,>=2.0.3 in /usr/local/lib/python3.11/dist-packages (from nbconvert>=5->notebook->holoviews[recommended]->keypoint-moseq) (3.1.1)\n",
            "Requirement already satisfied: nbclient>=0.5.0 in /usr/local/lib/python3.11/dist-packages (from nbconvert>=5->notebook->holoviews[recommended]->keypoint-moseq) (0.10.2)\n",
            "Requirement already satisfied: pandocfilters>=1.4.1 in /usr/local/lib/python3.11/dist-packages (from nbconvert>=5->notebook->holoviews[recommended]->keypoint-moseq) (1.5.1)\n",
            "Requirement already satisfied: fastjsonschema>=2.15 in /usr/local/lib/python3.11/dist-packages (from nbformat->notebook->holoviews[recommended]->keypoint-moseq) (2.21.1)\n",
            "Requirement already satisfied: ptyprocess>=0.5 in /usr/local/lib/python3.11/dist-packages (from pexpect>4.3->ipython>=5.4.0->holoviews[recommended]->keypoint-moseq) (0.7.0)\n",
            "Requirement already satisfied: wcwidth in /usr/local/lib/python3.11/dist-packages (from prompt-toolkit!=3.0.0,!=3.0.1,<3.1.0,>=2.0.0->ipython>=5.4.0->holoviews[recommended]->keypoint-moseq) (0.2.13)\n",
            "Requirement already satisfied: ruamel.yaml.clib>=0.2.7 in /usr/local/lib/python3.11/dist-packages (from ruamel-yaml>=0.16->hdmf<4,>=2.5.6->ndx-pose->keypoint-moseq) (0.2.12)\n",
            "Requirement already satisfied: argon2-cffi-bindings in /usr/local/lib/python3.11/dist-packages (from argon2-cffi->notebook->holoviews[recommended]->keypoint-moseq) (21.2.0)\n",
            "Requirement already satisfied: anyio in /usr/local/lib/python3.11/dist-packages (from httpx->blosc2>=2.3.0->tables->keypoint-moseq) (3.7.1)\n",
            "Requirement already satisfied: httpcore==1.* in /usr/local/lib/python3.11/dist-packages (from httpx->blosc2>=2.3.0->tables->keypoint-moseq) (1.0.7)\n",
            "Requirement already satisfied: h11<0.15,>=0.13 in /usr/local/lib/python3.11/dist-packages (from httpcore==1.*->httpx->blosc2>=2.3.0->tables->keypoint-moseq) (0.14.0)\n",
            "Requirement already satisfied: wadler-lindig>=0.1.3 in /usr/local/lib/python3.11/dist-packages (from jaxtyping->dynamax>=0.1.2->jax-moseq>=0.2.2->keypoint-moseq) (0.1.3)\n",
            "Requirement already satisfied: absl-py>=0.7.1 in /usr/local/lib/python3.11/dist-packages (from optax->dynamax>=0.1.2->jax-moseq>=0.2.2->keypoint-moseq) (1.4.0)\n",
            "Requirement already satisfied: chex>=0.1.87 in /usr/local/lib/python3.11/dist-packages (from optax->dynamax>=0.1.2->jax-moseq>=0.2.2->keypoint-moseq) (0.1.88)\n",
            "Requirement already satisfied: etils[epy] in /usr/local/lib/python3.11/dist-packages (from optax->dynamax>=0.1.2->jax-moseq>=0.2.2->keypoint-moseq) (1.12.0)\n",
            "Requirement already satisfied: joblib>=1.2.0 in /usr/local/lib/python3.11/dist-packages (from scikit-learn->dynamax>=0.1.2->jax-moseq>=0.2.2->keypoint-moseq) (1.4.2)\n",
            "Requirement already satisfied: threadpoolctl>=3.1.0 in /usr/local/lib/python3.11/dist-packages (from scikit-learn->dynamax>=0.1.2->jax-moseq>=0.2.2->keypoint-moseq) (3.5.0)\n",
            "Requirement already satisfied: cloudpickle>=1.3 in /usr/local/lib/python3.11/dist-packages (from tensorflow_probability->dynamax>=0.1.2->jax-moseq>=0.2.2->keypoint-moseq) (3.1.1)\n",
            "Requirement already satisfied: gast>=0.3.2 in /usr/local/lib/python3.11/dist-packages (from tensorflow_probability->dynamax>=0.1.2->jax-moseq>=0.2.2->keypoint-moseq) (0.6.0)\n",
            "Requirement already satisfied: dm-tree in /usr/local/lib/python3.11/dist-packages (from tensorflow_probability->dynamax>=0.1.2->jax-moseq>=0.2.2->keypoint-moseq) (0.1.9)\n",
            "Requirement already satisfied: tinycss2<1.5,>=1.1.0 in /usr/local/lib/python3.11/dist-packages (from bleach[css]!=5.0.0->nbconvert>=5->notebook->holoviews[recommended]->keypoint-moseq) (1.4.0)\n",
            "Requirement already satisfied: jupyter-server<3,>=1.8 in /usr/local/lib/python3.11/dist-packages (from notebook-shim>=0.2.3->nbclassic>=0.4.7->notebook->holoviews[recommended]->keypoint-moseq) (1.24.0)\n",
            "Requirement already satisfied: sniffio>=1.1 in /usr/local/lib/python3.11/dist-packages (from anyio->httpx->blosc2>=2.3.0->tables->keypoint-moseq) (1.3.1)\n",
            "Requirement already satisfied: cffi>=1.0.1 in /usr/local/lib/python3.11/dist-packages (from argon2-cffi-bindings->argon2-cffi->notebook->holoviews[recommended]->keypoint-moseq) (1.17.1)\n",
            "Requirement already satisfied: soupsieve>1.2 in /usr/local/lib/python3.11/dist-packages (from beautifulsoup4->nbconvert>=5->notebook->holoviews[recommended]->keypoint-moseq) (2.6)\n",
            "Requirement already satisfied: wrapt>=1.11.2 in /usr/local/lib/python3.11/dist-packages (from dm-tree->tensorflow_probability->dynamax>=0.1.2->jax-moseq>=0.2.2->keypoint-moseq) (1.17.2)\n",
            "Requirement already satisfied: pycparser in /usr/local/lib/python3.11/dist-packages (from cffi>=1.0.1->argon2-cffi-bindings->argon2-cffi->notebook->holoviews[recommended]->keypoint-moseq) (2.22)\n",
            "Requirement already satisfied: websocket-client in /usr/local/lib/python3.11/dist-packages (from jupyter-server<3,>=1.8->notebook-shim>=0.2.3->nbclassic>=0.4.7->notebook->holoviews[recommended]->keypoint-moseq) (1.8.0)\n",
            "Drive already mounted at /content/drive; to attempt to forcibly remount, call drive.mount(\"/content/drive\", force_remount=True).\n"
          ]
        }
      ],
      "source": [
        "! pip install -U keypoint-moseq\n",
        "import os\n",
        "from google.colab import drive\n",
        "drive.mount('/content/drive')"
      ]
    },
    {
      "cell_type": "markdown",
      "id": "df94500c",
      "metadata": {
        "id": "df94500c"
      },
      "source": [
        "### Option 1: Use our example dataset"
      ]
    },
    {
      "cell_type": "code",
      "execution_count": 2,
      "id": "e944d0e1",
      "metadata": {
        "id": "e944d0e1",
        "outputId": "4375513a-4972-4f23-9756-04379f91dfe7",
        "colab": {
          "base_uri": "https://localhost:8080/"
        }
      },
      "outputs": [
        {
          "output_type": "stream",
          "name": "stderr",
          "text": [
            "Downloading...\n",
            "From (original): https://drive.google.com/uc?id=1JGyS9MbdS3MtrlYnh4xdEQwe2bYoCuSZ\n",
            "From (redirected): https://drive.google.com/uc?id=1JGyS9MbdS3MtrlYnh4xdEQwe2bYoCuSZ&confirm=t&uuid=ccf1140e-606b-4f13-9409-8d43a277d67f\n",
            "To: /content/dlc_example_project.zip\n",
            "100%|██████████| 302M/302M [00:06<00:00, 46.1MB/s]\n"
          ]
        },
        {
          "output_type": "stream",
          "name": "stdout",
          "text": [
            "Archive:  dlc_example_project.zip\n",
            "   creating: dlc_example_project/\n",
            "  inflating: dlc_example_project/config.yaml  \n",
            "   creating: dlc_example_project/videos/\n",
            "  inflating: dlc_example_project/videos/21_12_10_def6a_3.top.ir.mp4  \n",
            "  inflating: dlc_example_project/videos/22_04_26_cage4_1_1.top.ir.mp4  \n",
            "  inflating: dlc_example_project/videos/21_12_10_def6b_3.top.irDLC_resnet50_moseq_exampleAug21shuffle1_500000.h5  \n",
            "  inflating: dlc_example_project/videos/21_12_2_def6a_1.top.irDLC_resnet50_moseq_exampleAug21shuffle1_500000.h5  \n",
            "  inflating: dlc_example_project/videos/21_12_10_def6a_1_1.top.ir.mp4  \n",
            "  inflating: dlc_example_project/videos/21_12_10_def6a_3.top.irDLC_resnet50_moseq_exampleAug21shuffle1_500000.h5  \n",
            "  inflating: dlc_example_project/videos/22_27_04_cage4_mouse2_0.top.ir.mp4  \n",
            "  inflating: dlc_example_project/videos/22_04_26_cage4_0_2.top.irDLC_resnet50_moseq_exampleAug21shuffle1_500000.h5  \n",
            "  inflating: dlc_example_project/videos/22_04_26_cage4_0.top.ir.mp4  \n",
            "  inflating: dlc_example_project/videos/21_12_10_def6a_1_1.top.irDLC_resnet50_moseq_exampleAug21shuffle1_500000.h5  \n",
            "  inflating: dlc_example_project/videos/22_27_04_cage4_mouse2_0.top.irDLC_resnet50_moseq_exampleAug21shuffle1_500000.h5  \n",
            "  inflating: dlc_example_project/videos/21_11_8_one_mouse.top.ir.Mp4  \n",
            "  inflating: dlc_example_project/videos/22_04_26_cage4_0.top.irDLC_resnet50_moseq_exampleAug21shuffle1_500000.h5  \n",
            "  inflating: dlc_example_project/videos/21_12_2_def6b_2.top.ir.mp4  \n",
            "   creating: dlc_example_project/videos/.ipynb_checkpoints/\n",
            "  inflating: dlc_example_project/videos/21_12_10_def6b_3.top.ir.Mp4  \n",
            "  inflating: dlc_example_project/videos/22_04_26_cage4_1_1.top.irDLC_resnet50_moseq_exampleAug21shuffle1_500000.h5  \n",
            "  inflating: dlc_example_project/videos/22_04_26_cage4_0_2.top.ir.mp4  \n",
            "  inflating: dlc_example_project/videos/21_12_2_def6b_2.top.irDLC_resnet50_moseq_exampleAug21shuffle1_500000.h5  \n",
            "  inflating: dlc_example_project/videos/21_12_2_def6a_1.top.ir.mp4  \n",
            "  inflating: dlc_example_project/videos/21_11_8_one_mouse.top.irDLC_resnet50_moseq_exampleAug21shuffle1_500000.h5  \n",
            "   creating: dlc_example_project/dlc-models/\n",
            "   creating: dlc_example_project/labeled-data/\n",
            "   creating: dlc_example_project/labeled-data/21_12_2_def6b_2.top.ir/\n",
            "   creating: dlc_example_project/labeled-data/21_11_8_one_mouse.top.ir/\n",
            "   creating: dlc_example_project/training-datasets/\n"
          ]
        }
      ],
      "source": [
        "import gdown\n",
        "url = 'https://drive.google.com/uc?id=1JGyS9MbdS3MtrlYnh4xdEQwe2bYoCuSZ'\n",
        "output = 'dlc_example_project.zip'\n",
        "gdown.download(url, output, quiet=False)\n",
        "! unzip dlc_example_project.zip\n",
        "\n",
        "data_dir = \"dlc_example_project\""
      ]
    },
    {
      "cell_type": "markdown",
      "id": "abad448e",
      "metadata": {
        "id": "abad448e"
      },
      "source": [
        "### Option 2: Use your own data\n",
        "Upload your data to google drive and then change the following path as needed"
      ]
    },
    {
      "cell_type": "code",
      "execution_count": 3,
      "id": "f7df6bb2",
      "metadata": {
        "id": "f7df6bb2"
      },
      "outputs": [],
      "source": [
        "# data_dir = \"/content/drive/MyDrive/MY_DATA_DIRECTORY\""
      ]
    },
    {
      "cell_type": "markdown",
      "id": "f8a52043",
      "metadata": {
        "id": "f8a52043"
      },
      "source": [
        "# Project setup\n",
        "Create a new project directory with a keypoint-MoSeq `config.yml` file."
      ]
    },
    {
      "cell_type": "code",
      "execution_count": 4,
      "id": "intermediate-kenya",
      "metadata": {
        "id": "intermediate-kenya",
        "outputId": "16c41a87-5da0-4adf-d0c8-5f415ebb07e1",
        "colab": {
          "base_uri": "https://localhost:8080/",
          "height": 17
        }
      },
      "outputs": [
        {
          "output_type": "display_data",
          "data": {
            "application/javascript": [
              "(function(root) {\n",
              "  function now() {\n",
              "    return new Date();\n",
              "  }\n",
              "\n",
              "  var force = true;\n",
              "\n",
              "  if (typeof root._bokeh_onload_callbacks === \"undefined\" || force === true) {\n",
              "    root._bokeh_onload_callbacks = [];\n",
              "    root._bokeh_is_loading = undefined;\n",
              "  }\n",
              "\n",
              "  if (typeof (root._bokeh_timeout) === \"undefined\" || force === true) {\n",
              "    root._bokeh_timeout = Date.now() + 5000;\n",
              "    root._bokeh_failed_load = false;\n",
              "  }\n",
              "\n",
              "  function run_callbacks() {\n",
              "    try {\n",
              "      root._bokeh_onload_callbacks.forEach(function(callback) {\n",
              "        if (callback != null)\n",
              "          callback();\n",
              "      });\n",
              "    } finally {\n",
              "      delete root._bokeh_onload_callbacks\n",
              "    }\n",
              "    console.debug(\"Bokeh: all callbacks have finished\");\n",
              "  }\n",
              "\n",
              "  function load_libs(css_urls, js_urls, js_modules, callback) {\n",
              "    if (css_urls == null) css_urls = [];\n",
              "    if (js_urls == null) js_urls = [];\n",
              "    if (js_modules == null) js_modules = [];\n",
              "\n",
              "    root._bokeh_onload_callbacks.push(callback);\n",
              "    if (root._bokeh_is_loading > 0) {\n",
              "      console.debug(\"Bokeh: BokehJS is being loaded, scheduling callback at\", now());\n",
              "      return null;\n",
              "    }\n",
              "    if (js_urls.length === 0 && js_modules.length === 0) {\n",
              "      run_callbacks();\n",
              "      return null;\n",
              "    }\n",
              "    console.debug(\"Bokeh: BokehJS not loaded, scheduling load and callback at\", now());\n",
              "\n",
              "    function on_load() {\n",
              "      root._bokeh_is_loading--;\n",
              "      if (root._bokeh_is_loading === 0) {\n",
              "        console.debug(\"Bokeh: all BokehJS libraries/stylesheets loaded\");\n",
              "        run_callbacks()\n",
              "      }\n",
              "    }\n",
              "\n",
              "    function on_error() {\n",
              "      console.error(\"failed to load \" + url);\n",
              "    }\n",
              "\n",
              "    for (var i = 0; i < css_urls.length; i++) {\n",
              "      var url = css_urls[i];\n",
              "      const element = document.createElement(\"link\");\n",
              "      element.onload = on_load;\n",
              "      element.onerror = on_error;\n",
              "      element.rel = \"stylesheet\";\n",
              "      element.type = \"text/css\";\n",
              "      element.href = url;\n",
              "      console.debug(\"Bokeh: injecting link tag for BokehJS stylesheet: \", url);\n",
              "      document.body.appendChild(element);\n",
              "    }\n",
              "\n",
              "    var skip = [];\n",
              "    if (window.requirejs) {\n",
              "      window.requirejs.config({'packages': {}, 'paths': {'plotly': 'https://cdn.plot.ly/plotly-2.18.0.min', 'tabulator': 'https://cdn.jsdelivr.net/npm/tabulator-tables@5.3.2/dist/js/tabulator', 'moment': 'https://cdn.jsdelivr.net/npm/luxon/build/global/luxon.min', 'gridstack': 'https://cdn.jsdelivr.net/npm/gridstack@4.2.5/dist/gridstack-h5', 'notyf': 'https://cdn.jsdelivr.net/npm/notyf@3/notyf.min'}, 'shim': {'gridstack': {'exports': 'GridStack'}}});\n",
              "      require([\"plotly\"], function(Plotly) {\n",
              "\twindow.Plotly = Plotly\n",
              "\ton_load()\n",
              "      })\n",
              "      require([\"tabulator\"], function(Tabulator) {\n",
              "\twindow.Tabulator = Tabulator\n",
              "\ton_load()\n",
              "      })\n",
              "      require([\"moment\"], function(moment) {\n",
              "\twindow.moment = moment\n",
              "\ton_load()\n",
              "      })\n",
              "      require([\"gridstack\"], function(GridStack) {\n",
              "\twindow.GridStack = GridStack\n",
              "\ton_load()\n",
              "      })\n",
              "      require([\"notyf\"], function() {\n",
              "\ton_load()\n",
              "      })\n",
              "      root._bokeh_is_loading = css_urls.length + 5;\n",
              "    } else {\n",
              "      root._bokeh_is_loading = css_urls.length + js_urls.length + js_modules.length;\n",
              "    }    if (((window['Plotly'] !== undefined) && (!(window['Plotly'] instanceof HTMLElement))) || window.requirejs) {\n",
              "      var urls = ['https://cdn.holoviz.org/panel/0.14.4/dist/bundled/plotlyplot/plotly-2.18.0.min.js'];\n",
              "      for (var i = 0; i < urls.length; i++) {\n",
              "        skip.push(urls[i])\n",
              "      }\n",
              "    }    if (((window['Tabulator'] !== undefined) && (!(window['Tabulator'] instanceof HTMLElement))) || window.requirejs) {\n",
              "      var urls = ['https://cdn.holoviz.org/panel/0.14.4/dist/bundled/datatabulator/tabulator-tables@5.3.2/dist/js/tabulator.js'];\n",
              "      for (var i = 0; i < urls.length; i++) {\n",
              "        skip.push(urls[i])\n",
              "      }\n",
              "    }    if (((window['moment'] !== undefined) && (!(window['moment'] instanceof HTMLElement))) || window.requirejs) {\n",
              "      var urls = ['https://cdn.holoviz.org/panel/0.14.4/dist/bundled/datatabulator/luxon/build/global/luxon.min.js'];\n",
              "      for (var i = 0; i < urls.length; i++) {\n",
              "        skip.push(urls[i])\n",
              "      }\n",
              "    }    if (((window['GridStack'] !== undefined) && (!(window['GridStack'] instanceof HTMLElement))) || window.requirejs) {\n",
              "      var urls = ['https://cdn.holoviz.org/panel/0.14.4/dist/bundled/gridstack/gridstack@4.2.5/dist/gridstack-h5.js'];\n",
              "      for (var i = 0; i < urls.length; i++) {\n",
              "        skip.push(urls[i])\n",
              "      }\n",
              "    }    if (((window['Notyf'] !== undefined) && (!(window['Notyf'] instanceof HTMLElement))) || window.requirejs) {\n",
              "      var urls = ['https://cdn.holoviz.org/panel/0.14.4/dist/bundled/notificationarea/notyf@3/notyf.min.js'];\n",
              "      for (var i = 0; i < urls.length; i++) {\n",
              "        skip.push(urls[i])\n",
              "      }\n",
              "    }    for (var i = 0; i < js_urls.length; i++) {\n",
              "      var url = js_urls[i];\n",
              "      if (skip.indexOf(url) >= 0) {\n",
              "\tif (!window.requirejs) {\n",
              "\t  on_load();\n",
              "\t}\n",
              "\tcontinue;\n",
              "      }\n",
              "      var element = document.createElement('script');\n",
              "      element.onload = on_load;\n",
              "      element.onerror = on_error;\n",
              "      element.async = false;\n",
              "      element.src = url;\n",
              "      console.debug(\"Bokeh: injecting script tag for BokehJS library: \", url);\n",
              "      document.head.appendChild(element);\n",
              "    }\n",
              "    for (var i = 0; i < js_modules.length; i++) {\n",
              "      var url = js_modules[i];\n",
              "      if (skip.indexOf(url) >= 0) {\n",
              "\tif (!window.requirejs) {\n",
              "\t  on_load();\n",
              "\t}\n",
              "\tcontinue;\n",
              "      }\n",
              "      var element = document.createElement('script');\n",
              "      element.onload = on_load;\n",
              "      element.onerror = on_error;\n",
              "      element.async = false;\n",
              "      element.src = url;\n",
              "      element.type = \"module\";\n",
              "      console.debug(\"Bokeh: injecting script tag for BokehJS library: \", url);\n",
              "      document.head.appendChild(element);\n",
              "    }\n",
              "    if (!js_urls.length && !js_modules.length) {\n",
              "      on_load()\n",
              "    }\n",
              "  };\n",
              "\n",
              "  function inject_raw_css(css) {\n",
              "    const element = document.createElement(\"style\");\n",
              "    element.appendChild(document.createTextNode(css));\n",
              "    document.body.appendChild(element);\n",
              "  }\n",
              "\n",
              "  var js_urls = [\"https://cdn.holoviz.org/panel/0.14.4/dist/bundled/jquery/jquery.slim.min.js\", \"https://cdn.holoviz.org/panel/0.14.4/dist/bundled/plotlyplot/plotly-2.18.0.min.js\", \"https://cdn.holoviz.org/panel/0.14.4/dist/bundled/datatabulator/tabulator-tables@5.3.2/dist/js/tabulator.js\", \"https://cdn.holoviz.org/panel/0.14.4/dist/bundled/datatabulator/luxon/build/global/luxon.min.js\", \"https://cdn.bokeh.org/bokeh/release/bokeh-2.4.3.min.js\", \"https://cdn.bokeh.org/bokeh/release/bokeh-gl-2.4.3.min.js\", \"https://cdn.bokeh.org/bokeh/release/bokeh-widgets-2.4.3.min.js\", \"https://cdn.bokeh.org/bokeh/release/bokeh-tables-2.4.3.min.js\", \"https://cdn.bokeh.org/bokeh/release/bokeh-mathjax-2.4.3.min.js\", \"https://unpkg.com/@holoviz/panel@0.14.4/dist/panel.min.js\"];\n",
              "  var js_modules = [];\n",
              "  var css_urls = [\"https://cdn.holoviz.org/panel/0.14.4/dist/bundled/datatabulator/tabulator-tables@5.3.2/dist/css/tabulator_simple.min.css\", \"https://cdn.holoviz.org/panel/0.14.4/dist/css/dataframe.css\", \"https://cdn.holoviz.org/panel/0.14.4/dist/css/alerts.css\", \"https://cdn.holoviz.org/panel/0.14.4/dist/css/json.css\", \"https://cdn.holoviz.org/panel/0.14.4/dist/css/loading.css\", \"https://cdn.holoviz.org/panel/0.14.4/dist/css/card.css\", \"https://cdn.holoviz.org/panel/0.14.4/dist/css/debugger.css\", \"https://cdn.holoviz.org/panel/0.14.4/dist/css/widgets.css\", \"https://cdn.holoviz.org/panel/0.14.4/dist/css/markdown.css\"];\n",
              "  var inline_js = [    function(Bokeh) {\n",
              "      inject_raw_css(\"\\n    .bk.pn-loading.arc:before {\\n      background-image: url(\\\"data:image/svg+xml;base64,PHN2ZyB4bWxucz0iaHR0cDovL3d3dy53My5vcmcvMjAwMC9zdmciIHN0eWxlPSJtYXJnaW46IGF1dG87IGJhY2tncm91bmQ6IG5vbmU7IGRpc3BsYXk6IGJsb2NrOyBzaGFwZS1yZW5kZXJpbmc6IGF1dG87IiB2aWV3Qm94PSIwIDAgMTAwIDEwMCIgcHJlc2VydmVBc3BlY3RSYXRpbz0ieE1pZFlNaWQiPiAgPGNpcmNsZSBjeD0iNTAiIGN5PSI1MCIgZmlsbD0ibm9uZSIgc3Ryb2tlPSIjYzNjM2MzIiBzdHJva2Utd2lkdGg9IjEwIiByPSIzNSIgc3Ryb2tlLWRhc2hhcnJheT0iMTY0LjkzMzYxNDMxMzQ2NDE1IDU2Ljk3Nzg3MTQzNzgyMTM4Ij4gICAgPGFuaW1hdGVUcmFuc2Zvcm0gYXR0cmlidXRlTmFtZT0idHJhbnNmb3JtIiB0eXBlPSJyb3RhdGUiIHJlcGVhdENvdW50PSJpbmRlZmluaXRlIiBkdXI9IjFzIiB2YWx1ZXM9IjAgNTAgNTA7MzYwIDUwIDUwIiBrZXlUaW1lcz0iMDsxIj48L2FuaW1hdGVUcmFuc2Zvcm0+ICA8L2NpcmNsZT48L3N2Zz4=\\\");\\n      background-size: auto calc(min(50%, 400px));\\n    }\\n    \");\n",
              "    },    function(Bokeh) {\n",
              "      Bokeh.set_log_level(\"info\");\n",
              "    },\n",
              "function(Bokeh) {} // ensure no trailing comma for IE\n",
              "  ];\n",
              "\n",
              "  function run_inline_js() {\n",
              "    if ((root.Bokeh !== undefined) || (force === true)) {\n",
              "      for (var i = 0; i < inline_js.length; i++) {\n",
              "        inline_js[i].call(root, root.Bokeh);\n",
              "      }} else if (Date.now() < root._bokeh_timeout) {\n",
              "      setTimeout(run_inline_js, 100);\n",
              "    } else if (!root._bokeh_failed_load) {\n",
              "      console.log(\"Bokeh: BokehJS failed to load within specified timeout.\");\n",
              "      root._bokeh_failed_load = true;\n",
              "    }\n",
              "  }\n",
              "\n",
              "  if (root._bokeh_is_loading === 0) {\n",
              "    console.debug(\"Bokeh: BokehJS loaded, going straight to plotting\");\n",
              "    run_inline_js();\n",
              "  } else {\n",
              "    load_libs(css_urls, js_urls, js_modules, function() {\n",
              "      console.debug(\"Bokeh: BokehJS plotting callback run at\", now());\n",
              "      run_inline_js();\n",
              "    });\n",
              "  }\n",
              "}(window));"
            ],
            "application/vnd.holoviews_load.v0+json": "(function(root) {\n  function now() {\n    return new Date();\n  }\n\n  var force = true;\n\n  if (typeof root._bokeh_onload_callbacks === \"undefined\" || force === true) {\n    root._bokeh_onload_callbacks = [];\n    root._bokeh_is_loading = undefined;\n  }\n\n  if (typeof (root._bokeh_timeout) === \"undefined\" || force === true) {\n    root._bokeh_timeout = Date.now() + 5000;\n    root._bokeh_failed_load = false;\n  }\n\n  function run_callbacks() {\n    try {\n      root._bokeh_onload_callbacks.forEach(function(callback) {\n        if (callback != null)\n          callback();\n      });\n    } finally {\n      delete root._bokeh_onload_callbacks\n    }\n    console.debug(\"Bokeh: all callbacks have finished\");\n  }\n\n  function load_libs(css_urls, js_urls, js_modules, callback) {\n    if (css_urls == null) css_urls = [];\n    if (js_urls == null) js_urls = [];\n    if (js_modules == null) js_modules = [];\n\n    root._bokeh_onload_callbacks.push(callback);\n    if (root._bokeh_is_loading > 0) {\n      console.debug(\"Bokeh: BokehJS is being loaded, scheduling callback at\", now());\n      return null;\n    }\n    if (js_urls.length === 0 && js_modules.length === 0) {\n      run_callbacks();\n      return null;\n    }\n    console.debug(\"Bokeh: BokehJS not loaded, scheduling load and callback at\", now());\n\n    function on_load() {\n      root._bokeh_is_loading--;\n      if (root._bokeh_is_loading === 0) {\n        console.debug(\"Bokeh: all BokehJS libraries/stylesheets loaded\");\n        run_callbacks()\n      }\n    }\n\n    function on_error() {\n      console.error(\"failed to load \" + url);\n    }\n\n    for (var i = 0; i < css_urls.length; i++) {\n      var url = css_urls[i];\n      const element = document.createElement(\"link\");\n      element.onload = on_load;\n      element.onerror = on_error;\n      element.rel = \"stylesheet\";\n      element.type = \"text/css\";\n      element.href = url;\n      console.debug(\"Bokeh: injecting link tag for BokehJS stylesheet: \", url);\n      document.body.appendChild(element);\n    }\n\n    var skip = [];\n    if (window.requirejs) {\n      window.requirejs.config({'packages': {}, 'paths': {'plotly': 'https://cdn.plot.ly/plotly-2.18.0.min', 'tabulator': 'https://cdn.jsdelivr.net/npm/tabulator-tables@5.3.2/dist/js/tabulator', 'moment': 'https://cdn.jsdelivr.net/npm/luxon/build/global/luxon.min', 'gridstack': 'https://cdn.jsdelivr.net/npm/gridstack@4.2.5/dist/gridstack-h5', 'notyf': 'https://cdn.jsdelivr.net/npm/notyf@3/notyf.min'}, 'shim': {'gridstack': {'exports': 'GridStack'}}});\n      require([\"plotly\"], function(Plotly) {\n\twindow.Plotly = Plotly\n\ton_load()\n      })\n      require([\"tabulator\"], function(Tabulator) {\n\twindow.Tabulator = Tabulator\n\ton_load()\n      })\n      require([\"moment\"], function(moment) {\n\twindow.moment = moment\n\ton_load()\n      })\n      require([\"gridstack\"], function(GridStack) {\n\twindow.GridStack = GridStack\n\ton_load()\n      })\n      require([\"notyf\"], function() {\n\ton_load()\n      })\n      root._bokeh_is_loading = css_urls.length + 5;\n    } else {\n      root._bokeh_is_loading = css_urls.length + js_urls.length + js_modules.length;\n    }    if (((window['Plotly'] !== undefined) && (!(window['Plotly'] instanceof HTMLElement))) || window.requirejs) {\n      var urls = ['https://cdn.holoviz.org/panel/0.14.4/dist/bundled/plotlyplot/plotly-2.18.0.min.js'];\n      for (var i = 0; i < urls.length; i++) {\n        skip.push(urls[i])\n      }\n    }    if (((window['Tabulator'] !== undefined) && (!(window['Tabulator'] instanceof HTMLElement))) || window.requirejs) {\n      var urls = ['https://cdn.holoviz.org/panel/0.14.4/dist/bundled/datatabulator/tabulator-tables@5.3.2/dist/js/tabulator.js'];\n      for (var i = 0; i < urls.length; i++) {\n        skip.push(urls[i])\n      }\n    }    if (((window['moment'] !== undefined) && (!(window['moment'] instanceof HTMLElement))) || window.requirejs) {\n      var urls = ['https://cdn.holoviz.org/panel/0.14.4/dist/bundled/datatabulator/luxon/build/global/luxon.min.js'];\n      for (var i = 0; i < urls.length; i++) {\n        skip.push(urls[i])\n      }\n    }    if (((window['GridStack'] !== undefined) && (!(window['GridStack'] instanceof HTMLElement))) || window.requirejs) {\n      var urls = ['https://cdn.holoviz.org/panel/0.14.4/dist/bundled/gridstack/gridstack@4.2.5/dist/gridstack-h5.js'];\n      for (var i = 0; i < urls.length; i++) {\n        skip.push(urls[i])\n      }\n    }    if (((window['Notyf'] !== undefined) && (!(window['Notyf'] instanceof HTMLElement))) || window.requirejs) {\n      var urls = ['https://cdn.holoviz.org/panel/0.14.4/dist/bundled/notificationarea/notyf@3/notyf.min.js'];\n      for (var i = 0; i < urls.length; i++) {\n        skip.push(urls[i])\n      }\n    }    for (var i = 0; i < js_urls.length; i++) {\n      var url = js_urls[i];\n      if (skip.indexOf(url) >= 0) {\n\tif (!window.requirejs) {\n\t  on_load();\n\t}\n\tcontinue;\n      }\n      var element = document.createElement('script');\n      element.onload = on_load;\n      element.onerror = on_error;\n      element.async = false;\n      element.src = url;\n      console.debug(\"Bokeh: injecting script tag for BokehJS library: \", url);\n      document.head.appendChild(element);\n    }\n    for (var i = 0; i < js_modules.length; i++) {\n      var url = js_modules[i];\n      if (skip.indexOf(url) >= 0) {\n\tif (!window.requirejs) {\n\t  on_load();\n\t}\n\tcontinue;\n      }\n      var element = document.createElement('script');\n      element.onload = on_load;\n      element.onerror = on_error;\n      element.async = false;\n      element.src = url;\n      element.type = \"module\";\n      console.debug(\"Bokeh: injecting script tag for BokehJS library: \", url);\n      document.head.appendChild(element);\n    }\n    if (!js_urls.length && !js_modules.length) {\n      on_load()\n    }\n  };\n\n  function inject_raw_css(css) {\n    const element = document.createElement(\"style\");\n    element.appendChild(document.createTextNode(css));\n    document.body.appendChild(element);\n  }\n\n  var js_urls = [\"https://cdn.holoviz.org/panel/0.14.4/dist/bundled/jquery/jquery.slim.min.js\", \"https://cdn.holoviz.org/panel/0.14.4/dist/bundled/plotlyplot/plotly-2.18.0.min.js\", \"https://cdn.holoviz.org/panel/0.14.4/dist/bundled/datatabulator/tabulator-tables@5.3.2/dist/js/tabulator.js\", \"https://cdn.holoviz.org/panel/0.14.4/dist/bundled/datatabulator/luxon/build/global/luxon.min.js\", \"https://cdn.bokeh.org/bokeh/release/bokeh-2.4.3.min.js\", \"https://cdn.bokeh.org/bokeh/release/bokeh-gl-2.4.3.min.js\", \"https://cdn.bokeh.org/bokeh/release/bokeh-widgets-2.4.3.min.js\", \"https://cdn.bokeh.org/bokeh/release/bokeh-tables-2.4.3.min.js\", \"https://cdn.bokeh.org/bokeh/release/bokeh-mathjax-2.4.3.min.js\", \"https://unpkg.com/@holoviz/panel@0.14.4/dist/panel.min.js\"];\n  var js_modules = [];\n  var css_urls = [\"https://cdn.holoviz.org/panel/0.14.4/dist/bundled/datatabulator/tabulator-tables@5.3.2/dist/css/tabulator_simple.min.css\", \"https://cdn.holoviz.org/panel/0.14.4/dist/css/dataframe.css\", \"https://cdn.holoviz.org/panel/0.14.4/dist/css/alerts.css\", \"https://cdn.holoviz.org/panel/0.14.4/dist/css/json.css\", \"https://cdn.holoviz.org/panel/0.14.4/dist/css/loading.css\", \"https://cdn.holoviz.org/panel/0.14.4/dist/css/card.css\", \"https://cdn.holoviz.org/panel/0.14.4/dist/css/debugger.css\", \"https://cdn.holoviz.org/panel/0.14.4/dist/css/widgets.css\", \"https://cdn.holoviz.org/panel/0.14.4/dist/css/markdown.css\"];\n  var inline_js = [    function(Bokeh) {\n      inject_raw_css(\"\\n    .bk.pn-loading.arc:before {\\n      background-image: url(\\\"data:image/svg+xml;base64,PHN2ZyB4bWxucz0iaHR0cDovL3d3dy53My5vcmcvMjAwMC9zdmciIHN0eWxlPSJtYXJnaW46IGF1dG87IGJhY2tncm91bmQ6IG5vbmU7IGRpc3BsYXk6IGJsb2NrOyBzaGFwZS1yZW5kZXJpbmc6IGF1dG87IiB2aWV3Qm94PSIwIDAgMTAwIDEwMCIgcHJlc2VydmVBc3BlY3RSYXRpbz0ieE1pZFlNaWQiPiAgPGNpcmNsZSBjeD0iNTAiIGN5PSI1MCIgZmlsbD0ibm9uZSIgc3Ryb2tlPSIjYzNjM2MzIiBzdHJva2Utd2lkdGg9IjEwIiByPSIzNSIgc3Ryb2tlLWRhc2hhcnJheT0iMTY0LjkzMzYxNDMxMzQ2NDE1IDU2Ljk3Nzg3MTQzNzgyMTM4Ij4gICAgPGFuaW1hdGVUcmFuc2Zvcm0gYXR0cmlidXRlTmFtZT0idHJhbnNmb3JtIiB0eXBlPSJyb3RhdGUiIHJlcGVhdENvdW50PSJpbmRlZmluaXRlIiBkdXI9IjFzIiB2YWx1ZXM9IjAgNTAgNTA7MzYwIDUwIDUwIiBrZXlUaW1lcz0iMDsxIj48L2FuaW1hdGVUcmFuc2Zvcm0+ICA8L2NpcmNsZT48L3N2Zz4=\\\");\\n      background-size: auto calc(min(50%, 400px));\\n    }\\n    \");\n    },    function(Bokeh) {\n      Bokeh.set_log_level(\"info\");\n    },\nfunction(Bokeh) {} // ensure no trailing comma for IE\n  ];\n\n  function run_inline_js() {\n    if ((root.Bokeh !== undefined) || (force === true)) {\n      for (var i = 0; i < inline_js.length; i++) {\n        inline_js[i].call(root, root.Bokeh);\n      }} else if (Date.now() < root._bokeh_timeout) {\n      setTimeout(run_inline_js, 100);\n    } else if (!root._bokeh_failed_load) {\n      console.log(\"Bokeh: BokehJS failed to load within specified timeout.\");\n      root._bokeh_failed_load = true;\n    }\n  }\n\n  if (root._bokeh_is_loading === 0) {\n    console.debug(\"Bokeh: BokehJS loaded, going straight to plotting\");\n    run_inline_js();\n  } else {\n    load_libs(css_urls, js_urls, js_modules, function() {\n      console.debug(\"Bokeh: BokehJS plotting callback run at\", now());\n      run_inline_js();\n    });\n  }\n}(window));"
          },
          "metadata": {}
        },
        {
          "output_type": "display_data",
          "data": {
            "application/vnd.holoviews_load.v0+json": "\nif ((window.PyViz === undefined) || (window.PyViz instanceof HTMLElement)) {\n  window.PyViz = {comms: {}, comm_status:{}, kernels:{}, receivers: {}, plot_index: []}\n}\n\n\n    function JupyterCommManager() {\n    }\n\n    JupyterCommManager.prototype.register_target = function(plot_id, comm_id, msg_handler) {\n      if (window.comm_manager || ((window.Jupyter !== undefined) && (Jupyter.notebook.kernel != null))) {\n        var comm_manager = window.comm_manager || Jupyter.notebook.kernel.comm_manager;\n        comm_manager.register_target(comm_id, function(comm) {\n          comm.on_msg(msg_handler);\n        });\n      } else if ((plot_id in window.PyViz.kernels) && (window.PyViz.kernels[plot_id])) {\n        window.PyViz.kernels[plot_id].registerCommTarget(comm_id, function(comm) {\n          comm.onMsg = msg_handler;\n        });\n      } else if (typeof google != 'undefined' && google.colab.kernel != null) {\n        google.colab.kernel.comms.registerTarget(comm_id, (comm) => {\n          var messages = comm.messages[Symbol.asyncIterator]();\n          function processIteratorResult(result) {\n            var message = result.value;\n            console.log(message)\n            var content = {data: message.data, comm_id};\n            var buffers = []\n            for (var buffer of message.buffers || []) {\n              buffers.push(new DataView(buffer))\n            }\n            var metadata = message.metadata || {};\n            var msg = {content, buffers, metadata}\n            msg_handler(msg);\n            return messages.next().then(processIteratorResult);\n          }\n          return messages.next().then(processIteratorResult);\n        })\n      }\n    }\n\n    JupyterCommManager.prototype.get_client_comm = function(plot_id, comm_id, msg_handler) {\n      if (comm_id in window.PyViz.comms) {\n        return window.PyViz.comms[comm_id];\n      } else if (window.comm_manager || ((window.Jupyter !== undefined) && (Jupyter.notebook.kernel != null))) {\n        var comm_manager = window.comm_manager || Jupyter.notebook.kernel.comm_manager;\n        var comm = comm_manager.new_comm(comm_id, {}, {}, {}, comm_id);\n        if (msg_handler) {\n          comm.on_msg(msg_handler);\n        }\n      } else if ((plot_id in window.PyViz.kernels) && (window.PyViz.kernels[plot_id])) {\n        var comm = window.PyViz.kernels[plot_id].connectToComm(comm_id);\n        comm.open();\n        if (msg_handler) {\n          comm.onMsg = msg_handler;\n        }\n      } else if (typeof google != 'undefined' && google.colab.kernel != null) {\n        var comm_promise = google.colab.kernel.comms.open(comm_id)\n        comm_promise.then((comm) => {\n          window.PyViz.comms[comm_id] = comm;\n          if (msg_handler) {\n            var messages = comm.messages[Symbol.asyncIterator]();\n            function processIteratorResult(result) {\n              var message = result.value;\n              var content = {data: message.data};\n              var metadata = message.metadata || {comm_id};\n              var msg = {content, metadata}\n              msg_handler(msg);\n              return messages.next().then(processIteratorResult);\n            }\n            return messages.next().then(processIteratorResult);\n          }\n        })\n        var sendClosure = (data, metadata, buffers, disposeOnDone) => {\n          return comm_promise.then((comm) => {\n            comm.send(data, metadata, buffers, disposeOnDone);\n          });\n        };\n        var comm = {\n          send: sendClosure\n        };\n      }\n      window.PyViz.comms[comm_id] = comm;\n      return comm;\n    }\n    window.PyViz.comm_manager = new JupyterCommManager();\n    \n\n\nvar JS_MIME_TYPE = 'application/javascript';\nvar HTML_MIME_TYPE = 'text/html';\nvar EXEC_MIME_TYPE = 'application/vnd.holoviews_exec.v0+json';\nvar CLASS_NAME = 'output';\n\n/**\n * Render data to the DOM node\n */\nfunction render(props, node) {\n  var div = document.createElement(\"div\");\n  var script = document.createElement(\"script\");\n  node.appendChild(div);\n  node.appendChild(script);\n}\n\n/**\n * Handle when a new output is added\n */\nfunction handle_add_output(event, handle) {\n  var output_area = handle.output_area;\n  var output = handle.output;\n  if ((output.data == undefined) || (!output.data.hasOwnProperty(EXEC_MIME_TYPE))) {\n    return\n  }\n  var id = output.metadata[EXEC_MIME_TYPE][\"id\"];\n  var toinsert = output_area.element.find(\".\" + CLASS_NAME.split(' ')[0]);\n  if (id !== undefined) {\n    var nchildren = toinsert.length;\n    var html_node = toinsert[nchildren-1].children[0];\n    html_node.innerHTML = output.data[HTML_MIME_TYPE];\n    var scripts = [];\n    var nodelist = html_node.querySelectorAll(\"script\");\n    for (var i in nodelist) {\n      if (nodelist.hasOwnProperty(i)) {\n        scripts.push(nodelist[i])\n      }\n    }\n\n    scripts.forEach( function (oldScript) {\n      var newScript = document.createElement(\"script\");\n      var attrs = [];\n      var nodemap = oldScript.attributes;\n      for (var j in nodemap) {\n        if (nodemap.hasOwnProperty(j)) {\n          attrs.push(nodemap[j])\n        }\n      }\n      attrs.forEach(function(attr) { newScript.setAttribute(attr.name, attr.value) });\n      newScript.appendChild(document.createTextNode(oldScript.innerHTML));\n      oldScript.parentNode.replaceChild(newScript, oldScript);\n    });\n    if (JS_MIME_TYPE in output.data) {\n      toinsert[nchildren-1].children[1].textContent = output.data[JS_MIME_TYPE];\n    }\n    output_area._hv_plot_id = id;\n    if ((window.Bokeh !== undefined) && (id in Bokeh.index)) {\n      window.PyViz.plot_index[id] = Bokeh.index[id];\n    } else {\n      window.PyViz.plot_index[id] = null;\n    }\n  } else if (output.metadata[EXEC_MIME_TYPE][\"server_id\"] !== undefined) {\n    var bk_div = document.createElement(\"div\");\n    bk_div.innerHTML = output.data[HTML_MIME_TYPE];\n    var script_attrs = bk_div.children[0].attributes;\n    for (var i = 0; i < script_attrs.length; i++) {\n      toinsert[toinsert.length - 1].childNodes[1].setAttribute(script_attrs[i].name, script_attrs[i].value);\n    }\n    // store reference to server id on output_area\n    output_area._bokeh_server_id = output.metadata[EXEC_MIME_TYPE][\"server_id\"];\n  }\n}\n\n/**\n * Handle when an output is cleared or removed\n */\nfunction handle_clear_output(event, handle) {\n  var id = handle.cell.output_area._hv_plot_id;\n  var server_id = handle.cell.output_area._bokeh_server_id;\n  if (((id === undefined) || !(id in PyViz.plot_index)) && (server_id !== undefined)) { return; }\n  var comm = window.PyViz.comm_manager.get_client_comm(\"hv-extension-comm\", \"hv-extension-comm\", function () {});\n  if (server_id !== null) {\n    comm.send({event_type: 'server_delete', 'id': server_id});\n    return;\n  } else if (comm !== null) {\n    comm.send({event_type: 'delete', 'id': id});\n  }\n  delete PyViz.plot_index[id];\n  if ((window.Bokeh !== undefined) & (id in window.Bokeh.index)) {\n    var doc = window.Bokeh.index[id].model.document\n    doc.clear();\n    const i = window.Bokeh.documents.indexOf(doc);\n    if (i > -1) {\n      window.Bokeh.documents.splice(i, 1);\n    }\n  }\n}\n\n/**\n * Handle kernel restart event\n */\nfunction handle_kernel_cleanup(event, handle) {\n  delete PyViz.comms[\"hv-extension-comm\"];\n  window.PyViz.plot_index = {}\n}\n\n/**\n * Handle update_display_data messages\n */\nfunction handle_update_output(event, handle) {\n  handle_clear_output(event, {cell: {output_area: handle.output_area}})\n  handle_add_output(event, handle)\n}\n\nfunction register_renderer(events, OutputArea) {\n  function append_mime(data, metadata, element) {\n    // create a DOM node to render to\n    var toinsert = this.create_output_subarea(\n    metadata,\n    CLASS_NAME,\n    EXEC_MIME_TYPE\n    );\n    this.keyboard_manager.register_events(toinsert);\n    // Render to node\n    var props = {data: data, metadata: metadata[EXEC_MIME_TYPE]};\n    render(props, toinsert[0]);\n    element.append(toinsert);\n    return toinsert\n  }\n\n  events.on('output_added.OutputArea', handle_add_output);\n  events.on('output_updated.OutputArea', handle_update_output);\n  events.on('clear_output.CodeCell', handle_clear_output);\n  events.on('delete.Cell', handle_clear_output);\n  events.on('kernel_ready.Kernel', handle_kernel_cleanup);\n\n  OutputArea.prototype.register_mime_type(EXEC_MIME_TYPE, append_mime, {\n    safe: true,\n    index: 0\n  });\n}\n\nif (window.Jupyter !== undefined) {\n  try {\n    var events = require('base/js/events');\n    var OutputArea = require('notebook/js/outputarea').OutputArea;\n    if (OutputArea.prototype.mime_types().indexOf(EXEC_MIME_TYPE) == -1) {\n      register_renderer(events, OutputArea);\n    }\n  } catch(err) {\n  }\n}\n",
            "application/javascript": [
              "\n",
              "if ((window.PyViz === undefined) || (window.PyViz instanceof HTMLElement)) {\n",
              "  window.PyViz = {comms: {}, comm_status:{}, kernels:{}, receivers: {}, plot_index: []}\n",
              "}\n",
              "\n",
              "\n",
              "    function JupyterCommManager() {\n",
              "    }\n",
              "\n",
              "    JupyterCommManager.prototype.register_target = function(plot_id, comm_id, msg_handler) {\n",
              "      if (window.comm_manager || ((window.Jupyter !== undefined) && (Jupyter.notebook.kernel != null))) {\n",
              "        var comm_manager = window.comm_manager || Jupyter.notebook.kernel.comm_manager;\n",
              "        comm_manager.register_target(comm_id, function(comm) {\n",
              "          comm.on_msg(msg_handler);\n",
              "        });\n",
              "      } else if ((plot_id in window.PyViz.kernels) && (window.PyViz.kernels[plot_id])) {\n",
              "        window.PyViz.kernels[plot_id].registerCommTarget(comm_id, function(comm) {\n",
              "          comm.onMsg = msg_handler;\n",
              "        });\n",
              "      } else if (typeof google != 'undefined' && google.colab.kernel != null) {\n",
              "        google.colab.kernel.comms.registerTarget(comm_id, (comm) => {\n",
              "          var messages = comm.messages[Symbol.asyncIterator]();\n",
              "          function processIteratorResult(result) {\n",
              "            var message = result.value;\n",
              "            console.log(message)\n",
              "            var content = {data: message.data, comm_id};\n",
              "            var buffers = []\n",
              "            for (var buffer of message.buffers || []) {\n",
              "              buffers.push(new DataView(buffer))\n",
              "            }\n",
              "            var metadata = message.metadata || {};\n",
              "            var msg = {content, buffers, metadata}\n",
              "            msg_handler(msg);\n",
              "            return messages.next().then(processIteratorResult);\n",
              "          }\n",
              "          return messages.next().then(processIteratorResult);\n",
              "        })\n",
              "      }\n",
              "    }\n",
              "\n",
              "    JupyterCommManager.prototype.get_client_comm = function(plot_id, comm_id, msg_handler) {\n",
              "      if (comm_id in window.PyViz.comms) {\n",
              "        return window.PyViz.comms[comm_id];\n",
              "      } else if (window.comm_manager || ((window.Jupyter !== undefined) && (Jupyter.notebook.kernel != null))) {\n",
              "        var comm_manager = window.comm_manager || Jupyter.notebook.kernel.comm_manager;\n",
              "        var comm = comm_manager.new_comm(comm_id, {}, {}, {}, comm_id);\n",
              "        if (msg_handler) {\n",
              "          comm.on_msg(msg_handler);\n",
              "        }\n",
              "      } else if ((plot_id in window.PyViz.kernels) && (window.PyViz.kernels[plot_id])) {\n",
              "        var comm = window.PyViz.kernels[plot_id].connectToComm(comm_id);\n",
              "        comm.open();\n",
              "        if (msg_handler) {\n",
              "          comm.onMsg = msg_handler;\n",
              "        }\n",
              "      } else if (typeof google != 'undefined' && google.colab.kernel != null) {\n",
              "        var comm_promise = google.colab.kernel.comms.open(comm_id)\n",
              "        comm_promise.then((comm) => {\n",
              "          window.PyViz.comms[comm_id] = comm;\n",
              "          if (msg_handler) {\n",
              "            var messages = comm.messages[Symbol.asyncIterator]();\n",
              "            function processIteratorResult(result) {\n",
              "              var message = result.value;\n",
              "              var content = {data: message.data};\n",
              "              var metadata = message.metadata || {comm_id};\n",
              "              var msg = {content, metadata}\n",
              "              msg_handler(msg);\n",
              "              return messages.next().then(processIteratorResult);\n",
              "            }\n",
              "            return messages.next().then(processIteratorResult);\n",
              "          }\n",
              "        })\n",
              "        var sendClosure = (data, metadata, buffers, disposeOnDone) => {\n",
              "          return comm_promise.then((comm) => {\n",
              "            comm.send(data, metadata, buffers, disposeOnDone);\n",
              "          });\n",
              "        };\n",
              "        var comm = {\n",
              "          send: sendClosure\n",
              "        };\n",
              "      }\n",
              "      window.PyViz.comms[comm_id] = comm;\n",
              "      return comm;\n",
              "    }\n",
              "    window.PyViz.comm_manager = new JupyterCommManager();\n",
              "    \n",
              "\n",
              "\n",
              "var JS_MIME_TYPE = 'application/javascript';\n",
              "var HTML_MIME_TYPE = 'text/html';\n",
              "var EXEC_MIME_TYPE = 'application/vnd.holoviews_exec.v0+json';\n",
              "var CLASS_NAME = 'output';\n",
              "\n",
              "/**\n",
              " * Render data to the DOM node\n",
              " */\n",
              "function render(props, node) {\n",
              "  var div = document.createElement(\"div\");\n",
              "  var script = document.createElement(\"script\");\n",
              "  node.appendChild(div);\n",
              "  node.appendChild(script);\n",
              "}\n",
              "\n",
              "/**\n",
              " * Handle when a new output is added\n",
              " */\n",
              "function handle_add_output(event, handle) {\n",
              "  var output_area = handle.output_area;\n",
              "  var output = handle.output;\n",
              "  if ((output.data == undefined) || (!output.data.hasOwnProperty(EXEC_MIME_TYPE))) {\n",
              "    return\n",
              "  }\n",
              "  var id = output.metadata[EXEC_MIME_TYPE][\"id\"];\n",
              "  var toinsert = output_area.element.find(\".\" + CLASS_NAME.split(' ')[0]);\n",
              "  if (id !== undefined) {\n",
              "    var nchildren = toinsert.length;\n",
              "    var html_node = toinsert[nchildren-1].children[0];\n",
              "    html_node.innerHTML = output.data[HTML_MIME_TYPE];\n",
              "    var scripts = [];\n",
              "    var nodelist = html_node.querySelectorAll(\"script\");\n",
              "    for (var i in nodelist) {\n",
              "      if (nodelist.hasOwnProperty(i)) {\n",
              "        scripts.push(nodelist[i])\n",
              "      }\n",
              "    }\n",
              "\n",
              "    scripts.forEach( function (oldScript) {\n",
              "      var newScript = document.createElement(\"script\");\n",
              "      var attrs = [];\n",
              "      var nodemap = oldScript.attributes;\n",
              "      for (var j in nodemap) {\n",
              "        if (nodemap.hasOwnProperty(j)) {\n",
              "          attrs.push(nodemap[j])\n",
              "        }\n",
              "      }\n",
              "      attrs.forEach(function(attr) { newScript.setAttribute(attr.name, attr.value) });\n",
              "      newScript.appendChild(document.createTextNode(oldScript.innerHTML));\n",
              "      oldScript.parentNode.replaceChild(newScript, oldScript);\n",
              "    });\n",
              "    if (JS_MIME_TYPE in output.data) {\n",
              "      toinsert[nchildren-1].children[1].textContent = output.data[JS_MIME_TYPE];\n",
              "    }\n",
              "    output_area._hv_plot_id = id;\n",
              "    if ((window.Bokeh !== undefined) && (id in Bokeh.index)) {\n",
              "      window.PyViz.plot_index[id] = Bokeh.index[id];\n",
              "    } else {\n",
              "      window.PyViz.plot_index[id] = null;\n",
              "    }\n",
              "  } else if (output.metadata[EXEC_MIME_TYPE][\"server_id\"] !== undefined) {\n",
              "    var bk_div = document.createElement(\"div\");\n",
              "    bk_div.innerHTML = output.data[HTML_MIME_TYPE];\n",
              "    var script_attrs = bk_div.children[0].attributes;\n",
              "    for (var i = 0; i < script_attrs.length; i++) {\n",
              "      toinsert[toinsert.length - 1].childNodes[1].setAttribute(script_attrs[i].name, script_attrs[i].value);\n",
              "    }\n",
              "    // store reference to server id on output_area\n",
              "    output_area._bokeh_server_id = output.metadata[EXEC_MIME_TYPE][\"server_id\"];\n",
              "  }\n",
              "}\n",
              "\n",
              "/**\n",
              " * Handle when an output is cleared or removed\n",
              " */\n",
              "function handle_clear_output(event, handle) {\n",
              "  var id = handle.cell.output_area._hv_plot_id;\n",
              "  var server_id = handle.cell.output_area._bokeh_server_id;\n",
              "  if (((id === undefined) || !(id in PyViz.plot_index)) && (server_id !== undefined)) { return; }\n",
              "  var comm = window.PyViz.comm_manager.get_client_comm(\"hv-extension-comm\", \"hv-extension-comm\", function () {});\n",
              "  if (server_id !== null) {\n",
              "    comm.send({event_type: 'server_delete', 'id': server_id});\n",
              "    return;\n",
              "  } else if (comm !== null) {\n",
              "    comm.send({event_type: 'delete', 'id': id});\n",
              "  }\n",
              "  delete PyViz.plot_index[id];\n",
              "  if ((window.Bokeh !== undefined) & (id in window.Bokeh.index)) {\n",
              "    var doc = window.Bokeh.index[id].model.document\n",
              "    doc.clear();\n",
              "    const i = window.Bokeh.documents.indexOf(doc);\n",
              "    if (i > -1) {\n",
              "      window.Bokeh.documents.splice(i, 1);\n",
              "    }\n",
              "  }\n",
              "}\n",
              "\n",
              "/**\n",
              " * Handle kernel restart event\n",
              " */\n",
              "function handle_kernel_cleanup(event, handle) {\n",
              "  delete PyViz.comms[\"hv-extension-comm\"];\n",
              "  window.PyViz.plot_index = {}\n",
              "}\n",
              "\n",
              "/**\n",
              " * Handle update_display_data messages\n",
              " */\n",
              "function handle_update_output(event, handle) {\n",
              "  handle_clear_output(event, {cell: {output_area: handle.output_area}})\n",
              "  handle_add_output(event, handle)\n",
              "}\n",
              "\n",
              "function register_renderer(events, OutputArea) {\n",
              "  function append_mime(data, metadata, element) {\n",
              "    // create a DOM node to render to\n",
              "    var toinsert = this.create_output_subarea(\n",
              "    metadata,\n",
              "    CLASS_NAME,\n",
              "    EXEC_MIME_TYPE\n",
              "    );\n",
              "    this.keyboard_manager.register_events(toinsert);\n",
              "    // Render to node\n",
              "    var props = {data: data, metadata: metadata[EXEC_MIME_TYPE]};\n",
              "    render(props, toinsert[0]);\n",
              "    element.append(toinsert);\n",
              "    return toinsert\n",
              "  }\n",
              "\n",
              "  events.on('output_added.OutputArea', handle_add_output);\n",
              "  events.on('output_updated.OutputArea', handle_update_output);\n",
              "  events.on('clear_output.CodeCell', handle_clear_output);\n",
              "  events.on('delete.Cell', handle_clear_output);\n",
              "  events.on('kernel_ready.Kernel', handle_kernel_cleanup);\n",
              "\n",
              "  OutputArea.prototype.register_mime_type(EXEC_MIME_TYPE, append_mime, {\n",
              "    safe: true,\n",
              "    index: 0\n",
              "  });\n",
              "}\n",
              "\n",
              "if (window.Jupyter !== undefined) {\n",
              "  try {\n",
              "    var events = require('base/js/events');\n",
              "    var OutputArea = require('notebook/js/outputarea').OutputArea;\n",
              "    if (OutputArea.prototype.mime_types().indexOf(EXEC_MIME_TYPE) == -1) {\n",
              "      register_renderer(events, OutputArea);\n",
              "    }\n",
              "  } catch(err) {\n",
              "  }\n",
              "}\n"
            ]
          },
          "metadata": {}
        },
        {
          "output_type": "display_data",
          "data": {
            "text/html": [
              "<style>.bk-root, .bk-root .bk:before, .bk-root .bk:after {\n",
              "  font-family: var(--jp-ui-font-size1);\n",
              "  font-size: var(--jp-ui-font-size1);\n",
              "  color: var(--jp-ui-font-color1);\n",
              "}\n",
              "</style>"
            ]
          },
          "metadata": {}
        }
      ],
      "source": [
        "import keypoint_moseq as kpms\n",
        "\n",
        "project_dir = '/content/drive/MyDrive/demo_project/'\n",
        "config = lambda: kpms.load_config(project_dir)"
      ]
    },
    {
      "cell_type": "markdown",
      "id": "012d8287",
      "metadata": {
        "id": "012d8287"
      },
      "source": [
        "### Option 1: Setup from DeepLabCut"
      ]
    },
    {
      "cell_type": "code",
      "execution_count": 5,
      "id": "b4aa2fcd",
      "metadata": {
        "mystnb": {
          "code_prompt_hide": "Setup from DeepLabCut",
          "code_prompt_show": "Setup from DeepLabCut"
        },
        "tags": [
          "hide-cell"
        ],
        "id": "b4aa2fcd"
      },
      "outputs": [],
      "source": [
        "dlc_config = os.path.join(data_dir, 'config.yaml')\n",
        "kpms.setup_project(project_dir, deeplabcut_config=dlc_config)"
      ]
    },
    {
      "cell_type": "markdown",
      "id": "d8967d49",
      "metadata": {
        "id": "d8967d49"
      },
      "source": [
        "### Option 2: Setup from SLEAP"
      ]
    },
    {
      "cell_type": "code",
      "execution_count": null,
      "id": "0c13b902",
      "metadata": {
        "mystnb": {
          "code_prompt_hide": "Setup from SLEAP",
          "code_prompt_show": "Setup from SLEAP"
        },
        "tags": [
          "hide-cell"
        ],
        "id": "0c13b902"
      },
      "outputs": [],
      "source": [
        "# choose a .h5 file for one of your recordings\n",
        "# sleap_file = os.path.join(data_dir, 'SLEAP_FILE_NAME')\n",
        "# kpms.setup_project(project_dir, sleap_file=sleap_file)"
      ]
    },
    {
      "cell_type": "markdown",
      "id": "b9e62b8e",
      "metadata": {
        "id": "b9e62b8e"
      },
      "source": [
        "### Options 3: Manual setup"
      ]
    },
    {
      "cell_type": "code",
      "execution_count": null,
      "id": "0d804ac5",
      "metadata": {
        "mystnb": {
          "code_prompt_hide": "Custom setup",
          "code_prompt_show": "Custom setup"
        },
        "tags": [
          "hide-cell"
        ],
        "id": "0d804ac5"
      },
      "outputs": [],
      "source": [
        "# bodyparts=[\n",
        "#     'tail', 'spine4', 'spine3', 'spine2', 'spine1',\n",
        "#     'head', 'nose', 'right ear', 'left ear']\n",
        "\n",
        "# skeleton=[\n",
        "#     ['tail', 'spine4'],\n",
        "#     ['spine4', 'spine3'],\n",
        "#     ['spine3', 'spine2'],\n",
        "#     ['spine2', 'spine1'],\n",
        "#     ['spine1', 'head'],\n",
        "#     ['nose', 'head'],\n",
        "#     ['left ear', 'head'],\n",
        "#     ['right ear', 'head']]\n",
        "\n",
        "# video_dir = os.path.join(data_dir, 'videos')\n",
        "\n",
        "# kpms.setup_project(\n",
        "#     project_dir,\n",
        "#     video_dir=video_dir,\n",
        "#     bodyparts=bodyparts,\n",
        "#     skeleton=skeleton)"
      ]
    },
    {
      "cell_type": "markdown",
      "id": "gothic-viking",
      "metadata": {
        "id": "gothic-viking"
      },
      "source": [
        "## Edit the config file\n",
        "\n",
        "The config can be edited in a text editor or using the function `kpms.update_config`, as shown below. In general, the following parameters should be specified for each project:\n",
        "\n",
        "- `bodyparts` (name of each keypoint; automatically imported from SLEAP/DeepLabCut)\n",
        "- `use_bodyparts` (subset of bodyparts to use for modeling, set to all bodyparts by default; for mice we recommend excluding the tail)\n",
        "- `anterior_bodyparts` and `posterior_bodyparts` (used for rotational alignment)\n",
        "- `video_dir` (directory with videos of each experiment)\n",
        "\n",
        "Edit the config as follows for the [example DeepLabCut dataset](https://drive.google.com/drive/folders/1UNHQ_XCQEKLPPSjGspRopWBj6-YNDV6G?usp=share_link):"
      ]
    },
    {
      "cell_type": "code",
      "execution_count": 6,
      "id": "theoretical-yahoo",
      "metadata": {
        "id": "theoretical-yahoo"
      },
      "outputs": [],
      "source": [
        "kpms.update_config(\n",
        "    project_dir,\n",
        "    video_dir=os.path.join(data_dir, 'videos'),\n",
        "    anterior_bodyparts=['nose'],\n",
        "    posterior_bodyparts=['spine4'],\n",
        "    use_bodyparts=[\n",
        "        'spine4', 'spine3', 'spine2', 'spine1',\n",
        "        'head', 'nose', 'right ear', 'left ear'])"
      ]
    },
    {
      "cell_type": "markdown",
      "id": "phantom-dating",
      "metadata": {
        "id": "phantom-dating"
      },
      "source": [
        "## Load data\n",
        "\n",
        "The code below shows how to load keypoint detections from DeepLabCut. To load other formats, replace `'deeplabcut'` in the example with one of `'sleap', 'anipose', 'sleap-anipose', 'nwb'`. For other formats, see the [FAQ](https://keypoint-moseq.readthedocs.io/en/latest/FAQs.html#loading-keypoint-tracking-data)."
      ]
    },
    {
      "cell_type": "code",
      "execution_count": 7,
      "id": "expressed-christian",
      "metadata": {
        "id": "expressed-christian",
        "outputId": "3ea4a1fe-65b8-44b1-a0a4-d3baabbed7d2",
        "colab": {
          "base_uri": "https://localhost:8080/"
        }
      },
      "outputs": [
        {
          "output_type": "stream",
          "name": "stderr",
          "text": [
            "Loading keypoints: 100%|████████████████| 10/10 [00:02<00:00,  3.96it/s]\n"
          ]
        }
      ],
      "source": [
        "# load data (e.g. from DeepLabCut)\n",
        "keypoint_data_path = os.path.join(data_dir, 'videos') # can be a file, a directory, or a list of files\n",
        "coordinates, confidences, bodyparts = kpms.load_keypoints(keypoint_data_path, 'deeplabcut')\n",
        "\n",
        "# format data for modeling\n",
        "data, metadata = kpms.format_data(coordinates, confidences, **config())"
      ]
    },
    {
      "cell_type": "markdown",
      "id": "processed-struggle",
      "metadata": {
        "id": "processed-struggle"
      },
      "source": [
        "## Calibration [disabled in colab]\n",
        "\n",
        "The purpose of calibration is to learn the relationship between error and keypoint confidence scores. The resulting regression coefficients (`slope` and `intercept`) are used during modeling to set the noise prior on a per-frame, per-keypoint basis. **This step is disabled in colab**. In any case it can safely be skipped since the default parameters are fine for most datasets.  "
      ]
    },
    {
      "cell_type": "markdown",
      "id": "organizational-theorem",
      "metadata": {
        "id": "organizational-theorem"
      },
      "source": [
        "## Fit PCA\n",
        "\n",
        "Run the cell below to fit a PCA model to aligned and centered keypoint coordinates.\n",
        "\n",
        "- The model is saved to ``{project_dir}/pca.p`` and can be reloaded using ``kpms.load_pca``.\n",
        "- Two plots are generated: a cumulative [scree plot](https://en.wikipedia.org/wiki/Scree_plot) and a depiction of each PC, where translucent nodes/edges represent the mean pose and opaque nodes/edges represent a perturbation in the direction of the PC.\n",
        "- After fitting, edit `latent_dimension` in the config. This determines the dimension of the pose trajectory used to fit keypoint-MoSeq. A good heuristic is the number of dimensions needed to explain 90% of variance, or 10 dimensions - whichever is lower.  "
      ]
    },
    {
      "cell_type": "code",
      "execution_count": 8,
      "id": "respiratory-canvas",
      "metadata": {
        "id": "respiratory-canvas",
        "outputId": "5b481e82-dcd8-4d9d-821f-413eb8a1d2c6",
        "colab": {
          "base_uri": "https://localhost:8080/",
          "height": 460
        }
      },
      "outputs": [
        {
          "output_type": "stream",
          "name": "stdout",
          "text": [
            ">=90.0% of variance exlained by 4 components.\n"
          ]
        },
        {
          "output_type": "display_data",
          "data": {
            "text/plain": [
              "<Figure size 300x200 with 1 Axes>"
            ],
            "image/png": "[encoded data removed]"
          },
          "metadata": {}
        },
        {
          "output_type": "display_data",
          "data": {
            "text/plain": [
              "<Figure size 1000x300 with 10 Axes>"
            ],
            "image/png": "[encoded data removed]"
          },
          "metadata": {}
        }
      ],
      "source": [
        "pca = kpms.fit_pca(**data, **config())\n",
        "kpms.save_pca(pca, project_dir)\n",
        "\n",
        "kpms.print_dims_to_explain_variance(pca, 0.9)\n",
        "kpms.plot_scree(pca, project_dir=project_dir)\n",
        "kpms.plot_pcs(pca, project_dir=project_dir, **config())\n",
        "\n",
        "# use the following to load an already fit model\n",
        "# pca = kpms.load_pca(project_dir)"
      ]
    },
    {
      "cell_type": "code",
      "execution_count": 9,
      "id": "a1a3a9b6",
      "metadata": {
        "id": "a1a3a9b6"
      },
      "outputs": [],
      "source": [
        "kpms.update_config(project_dir, latent_dim=4)"
      ]
    },
    {
      "cell_type": "markdown",
      "id": "accomplished-pantyhose",
      "metadata": {
        "id": "accomplished-pantyhose"
      },
      "source": [
        "# Model fitting\n",
        "\n",
        "Fitting a keypoint-MoSeq model involves:\n",
        "1. **Initialization:** Auto-regressive (AR) parameters and syllable sequences are randomly initialized using pose trajectories from PCA.\n",
        "2. **Fitting an AR-HMM:** The AR parameters, transition probabilities and syllable sequences are iteratively updated through Gibbs sampling.\n",
        "3. **Fitting the full model:** All parameters, including both the AR-HMM as well as centroid, heading, noise-estimates and continuous latent states (i.e. pose trajectories) are iteratively updated through Gibbs sampling. This step is especially useful for noisy data.\n",
        "4. **Extracting model results:** The learned states of the model are parsed and saved to disk for vizualization and downstream analysis.\n",
        "4. **[Optional] Applying the trained model:** The learned model parameters can be used to infer a syllable sequences for additional data.\n",
        "\n",
        "## Setting kappa\n",
        "\n",
        "Most users will need to adjust the **kappa** hyperparameter to achieve the desired distribution of syllable durations. For this tutorial we chose kappa values that yielded a median syllable duration of 400ms (12 frames). Most users will need to tune kappa to their particular dataset. Higher values of kappa lead to longer syllables. **You will need to pick two kappas: one for AR-HMM fitting and one for the full model.**\n",
        "- We recommend iteratively updating kappa and refitting the model until the target syllable time-scale is attained.  \n",
        "- Model fitting can be stopped at any time by interrupting the kernel, and then restarted with a new kappa value.\n",
        "- The full model will generally require a lower value of kappa to yield the same target syllable durations.\n",
        "- To adjust the value of kappa in the model, use `kpms.update_hypparams` as shown below. Note that this command only changes kappa in the model dictionary, not the kappa value in the config file. The value in the config is only used during model initialization."
      ]
    },
    {
      "cell_type": "markdown",
      "id": "utility-penetration",
      "metadata": {
        "id": "utility-penetration"
      },
      "source": [
        "## Initialization"
      ]
    },
    {
      "cell_type": "code",
      "execution_count": 10,
      "id": "found-administrator",
      "metadata": {
        "id": "found-administrator"
      },
      "outputs": [],
      "source": [
        "# initialize the model\n",
        "model = kpms.init_model(data, pca=pca, **config())\n",
        "\n",
        "# optionally modify kappa\n",
        "# model = kpms.update_hypparams(model, kappa=NUMBER)"
      ]
    },
    {
      "cell_type": "markdown",
      "id": "partial-remove",
      "metadata": {
        "id": "partial-remove"
      },
      "source": [
        "## Fitting an AR-HMM\n",
        "\n",
        "In addition to fitting an AR-HMM, the function below:\n",
        "- generates a name for the model and a corresponding directory in `project_dir`\n",
        "- saves a checkpoint every 25 iterations from which fitting can be restarted\n",
        "- plots the progress of fitting every 25 iterations, including\n",
        "    - the distributions of syllable frequencies and durations for the most recent iteration\n",
        "    - the change in median syllable duration across fitting iterations\n",
        "    - a sample of the syllable sequence across iterations in a random window"
      ]
    },
    {
      "cell_type": "code",
      "execution_count": null,
      "id": "888e6ff7",
      "metadata": {
        "scrolled": false,
        "id": "888e6ff7",
        "outputId": "bd1214d6-7b75-4a9d-89cd-11bb9e51b282",
        "colab": {
          "base_uri": "https://localhost:8080/",
          "height": 336
        }
      },
      "outputs": [
        {
          "metadata": {
            "tags": null
          },
          "name": "stdout",
          "output_type": "stream",
          "text": [
            "Outputs will be saved to\n",
            "/content/drive/MyDrive/demo_project/2025_02_18-13_04_47\n"
          ]
        },
        {
          "output_type": "stream",
          "name": "stderr",
          "text": [
            " 49%|█████████████████▏                 | 25/51 [08:25<08:39, 19.98s/it]"
          ]
        },
        {
          "output_type": "display_data",
          "data": {
            "text/plain": [
              "<Figure size 1200x250 with 4 Axes>"
            ],
            "image/png": "[encoded data removed]"
          },
          "metadata": {}
        },
        {
          "output_type": "stream",
          "name": "stderr",
          "text": [
            " 63%|█████████████████████▉             | 32/51 [10:56<06:28, 20.45s/it]"
          ]
        }
      ],
      "source": [
        "num_ar_iters = 50\n",
        "\n",
        "model, model_name = kpms.fit_model(\n",
        "    model, data, metadata, project_dir,\n",
        "    ar_only=True, num_iters=num_ar_iters)"
      ]
    },
    {
      "cell_type": "markdown",
      "id": "thorough-identity",
      "metadata": {
        "id": "thorough-identity"
      },
      "source": [
        "## Fitting the full model\n",
        "\n",
        "The following code fits a full keypoint-MoSeq model using the results of AR-HMM fitting for initialization. If using your own data, you may need to try a few values of kappa at this step."
      ]
    },
    {
      "cell_type": "code",
      "execution_count": null,
      "id": "swiss-repeat",
      "metadata": {
        "id": "swiss-repeat"
      },
      "outputs": [],
      "source": [
        "# load model checkpoint\n",
        "model, data, metadata, current_iter = kpms.load_checkpoint(\n",
        "    project_dir, model_name, iteration=num_ar_iters)\n",
        "\n",
        "# modify kappa to maintain the desired syllable time-scale\n",
        "model = kpms.update_hypparams(model, kappa=1e4)\n",
        "\n",
        "# run fitting for an additional 500 iters\n",
        "model = kpms.fit_model(\n",
        "    model, data, metadata, project_dir, model_name, ar_only=False,\n",
        "    start_iter=current_iter, num_iters=current_iter+500)[0]\n",
        ""
      ]
    },
    {
      "cell_type": "markdown",
      "id": "0837e0ad",
      "metadata": {
        "id": "0837e0ad"
      },
      "source": [
        "## Sort syllables by frequency\n",
        "\n",
        "Permute the states and parameters of a saved checkpoint so that syllables are labeled in order of frequency (i.e. so that `0` is the most frequent, `1` is the second most, and so on)."
      ]
    },
    {
      "cell_type": "code",
      "execution_count": null,
      "id": "902ccabf",
      "metadata": {
        "id": "902ccabf"
      },
      "outputs": [],
      "source": [
        "# modify a saved checkpoint so syllables are ordered by frequency\n",
        "kpms.reindex_syllables_in_checkpoint(project_dir, model_name);"
      ]
    },
    {
      "cell_type": "markdown",
      "id": "bc027d4a",
      "metadata": {
        "id": "bc027d4a"
      },
      "source": [
        "```{warning}\n",
        "Reindexing is only applied to the checkpoint file. Therefore, if you perform this step after extracting the modeling results or generating vizualizations, then those steps must be repeated.\n",
        "```"
      ]
    },
    {
      "cell_type": "markdown",
      "id": "79951b99",
      "metadata": {
        "id": "79951b99"
      },
      "source": [
        "## Extract model results\n",
        "\n",
        "Parse the modeling results and save them to `{project_dir}/{model_name}/results.h5`. The results are stored as follows, and can be reloaded at a later time using `kpms.load_results`. Check the docs for an [in-depth explanation of the modeling results](https://keypoint-moseq.readthedocs.io/en/latest/FAQs.html#interpreting-model-outputs).\n",
        "```\n",
        "    results.h5\n",
        "    ├──recording_name1\n",
        "    │  ├──syllable      # syllable labels (z)\n",
        "    │  ├──latent_state  # inferred low-dim pose state (x)\n",
        "    │  ├──centroid      # inferred centroid (v)\n",
        "    │  └──heading       # inferred heading (h)\n",
        "    ⋮\n",
        "```"
      ]
    },
    {
      "cell_type": "code",
      "execution_count": null,
      "id": "d8abffb5",
      "metadata": {
        "id": "d8abffb5"
      },
      "outputs": [],
      "source": [
        "# load the most recent model checkpoint\n",
        "model, data, metadata, current_iter = kpms.load_checkpoint(project_dir, model_name)\n",
        "\n",
        "# extract results\n",
        "results = kpms.extract_results(model, metadata, project_dir, model_name)"
      ]
    },
    {
      "cell_type": "markdown",
      "id": "a37f9d42",
      "metadata": {
        "id": "a37f9d42"
      },
      "source": [
        "### [Optional] Save results to csv\n",
        "\n",
        "After extracting to an h5 file, the results can also be saved as csv files. A separate file will be created for each recording and saved to `{project_dir}/{model_name}/results/`."
      ]
    },
    {
      "cell_type": "code",
      "execution_count": null,
      "id": "0ceea1e2",
      "metadata": {
        "id": "0ceea1e2"
      },
      "outputs": [],
      "source": [
        "# optionally save results as csv\n",
        "kpms.save_results_as_csv(results, project_dir, model_name)"
      ]
    },
    {
      "cell_type": "markdown",
      "id": "empty-houston",
      "metadata": {
        "id": "empty-houston"
      },
      "source": [
        "## Apply to new data\n",
        "\n",
        "The code below shows how to apply a trained model to new data. This is useful if you have performed new experiments and would like to maintain an existing set of syllables. The results for the new experiments will be added to the existing `results.h5` file. **This step is optional and can be skipped if you do not have new data to add**."
      ]
    },
    {
      "cell_type": "code",
      "execution_count": null,
      "id": "abae55fd",
      "metadata": {
        "id": "abae55fd"
      },
      "outputs": [],
      "source": [
        "# load the most recent model checkpoint and pca object\n",
        "# model = kpms.load_checkpoint(project_dir, model_name)[0]\n",
        "\n",
        "# # load new data (e.g. from deeplabcut)\n",
        "# new_data = 'path/to/new/data/' # can be a file, a directory, or a list of files\n",
        "# coordinates, confidences, bodyparts = kpms.load_keypoints(new_data, 'deeplabcut')\n",
        "# data, metadata = kpms.format_data(coordinates, confidences, **config())\n",
        "\n",
        "# # apply saved model to new data\n",
        "# results = kpms.apply_model(model, data, metadata, project_dir, model_name, **config())\n",
        "\n",
        "# optionally rerun `save_results_as_csv` to export the new results\n",
        "# kpms.save_results_as_csv(results, project_dir, model_name)"
      ]
    },
    {
      "cell_type": "markdown",
      "id": "breeding-fashion",
      "metadata": {
        "id": "breeding-fashion"
      },
      "source": [
        "# Visualization"
      ]
    },
    {
      "cell_type": "markdown",
      "id": "a2491a0d",
      "metadata": {
        "id": "a2491a0d"
      },
      "source": [
        "## Trajectory plots\n",
        "Generate plots showing the median trajectory of poses associated with each given syllable."
      ]
    },
    {
      "cell_type": "code",
      "execution_count": null,
      "id": "subject-disney",
      "metadata": {
        "id": "subject-disney"
      },
      "outputs": [],
      "source": [
        "results = kpms.load_results(project_dir, model_name)\n",
        "kpms.generate_trajectory_plots(coordinates, results, project_dir, model_name, **config())"
      ]
    },
    {
      "cell_type": "markdown",
      "id": "617a66ed",
      "metadata": {
        "id": "617a66ed"
      },
      "source": [
        "## Grid movies\n",
        "Generate video clips showing examples of each syllable.\n",
        "\n",
        "*Note: the code below will only work with 2D data. For 3D data, see the [FAQ](https://keypoint-moseq.readthedocs.io/en/latest/FAQs.html#making-grid-movies-for-3d-data).*"
      ]
    },
    {
      "cell_type": "code",
      "execution_count": null,
      "id": "dominant-packet",
      "metadata": {
        "id": "dominant-packet"
      },
      "outputs": [],
      "source": [
        "kpms.generate_grid_movies(results, project_dir, model_name, coordinates=coordinates, **config());"
      ]
    },
    {
      "cell_type": "markdown",
      "id": "d670667d",
      "metadata": {
        "id": "d670667d"
      },
      "source": [
        "## Syllable Dendrogram\n",
        "Plot a dendrogram representing distances between each syllable's median trajectory."
      ]
    },
    {
      "cell_type": "code",
      "execution_count": null,
      "id": "81a324c4",
      "metadata": {
        "id": "81a324c4"
      },
      "outputs": [],
      "source": [
        "kpms.plot_similarity_dendrogram(coordinates, results, project_dir, model_name, **config())"
      ]
    }
  ],
  "metadata": {
    "kernelspec": {
      "display_name": "keypoint_moseq",
      "language": "python",
      "name": "keypoint_moseq"
    },
    "language_info": {
      "codemirror_mode": {
        "name": "ipython",
        "version": 3
      },
      "file_extension": ".py",
      "mimetype": "text/x-python",
      "name": "python",
      "nbconvert_exporter": "python",
      "pygments_lexer": "ipython3",
      "version": "3.9.16"
    },
    "varInspector": {
      "cols": {
        "lenName": 16,
        "lenType": 16,
        "lenVar": 40
      },
      "kernels_config": {
        "python": {
          "delete_cmd_postfix": "",
          "delete_cmd_prefix": "del ",
          "library": "var_list.py",
          "varRefreshCmd": "print(var_dic_list())"
        },
        "r": {
          "delete_cmd_postfix": ") ",
          "delete_cmd_prefix": "rm(",
          "library": "var_list.r",
          "varRefreshCmd": "cat(var_dic_list()) "
        }
      },
      "types_to_exclude": [
        "module",
        "function",
        "builtin_function_or_method",
        "instance",
        "_Feature"
      ],
      "window_display": false
    },
    "colab": {
      "provenance": [],
      "include_colab_link": true
    }
  },
  "nbformat": 4,
  "nbformat_minor": 5
}